{
 "cells": [
  {
   "cell_type": "markdown",
   "metadata": {},
   "source": [
    "# ***QTM 350 Final Project***\n",
    "### Olivia Song, Elizabeth Bryant, Betty Li, and Aaron Leonard, and Alexa Yanar\n",
    "![Climate](https://www.noaa.gov/sites/default/files/styles/scale_crop_1120x534/public/thumbnails/image/Photo%20collage-climate%20scenarios-global%20climate%20reports-NOAA%20image-landscapes.jpg?itok=rcowMNf5)\n",
    "\n",
    "For our Data Science Capstone, our group analyzed NOAA Global Historical Climatology Network Daily data from the Registry of Open Data on AWS (https://registry.opendata.aws/noaa-ghcn/). We found this dataset interesting because climate change has been a major topic in the news for the past few years. Also, weather data is faily easy to work with since all the variables are familiar. This dataset contains daily observations for precipitation, temperature, snow depth, and time of observation from multiple resources since 1763. We decided to focus on data from 2019 and 1919, since 2019 is the most current and complete and 1919 is exactly 100 years before. We can compare the data to see how climate has changed over the years. Our work can be found at https://github.com/miaowu128/QTM350FinalProject.git.\n",
    "\n",
    "We began by looking at the documentation included on the Open Data Registry (https://docs.opendata.aws/noaa-ghcn-pds/readme.html). The readme file gave us insight on the variables we would be looking at. Dr. Jacobson also helped us research some other published notebooks that used the data to see if we could build off of previous work. These were great examples;however, the first notebook used a different file than the one we chose and the second was used to demonstrate how to use various python packages. \n",
    "\n",
    "### *Notebook Examples*\n",
    "- https://livebook.manning.com/book/the-quick-python-book-third-edition/case-study/1\n",
    "- https://www.kaggle.com/kerneler/starter-aws-open-source-weather-4e419ab3-9"
   ]
  },
  {
   "cell_type": "markdown",
   "metadata": {},
   "source": [
    "# ***Themes and Extensions***\n",
    "## **Alexa Yanar**\n",
    "Themes can be a very good way to engage the reader further, by providing different colors and fonts to break up the seas of white in the default Jupyter Notebook theme. We'll be doing so by using Jupyter Themes, a program created by Kyle Donovan, whose Github can be found here: https://github.com/dunovank/jupyter-themes. This Github helps provide basic information about setting up Jupyter Themes, as well as trouble-shooting. To get started, we need to install jupyterthemes, and install and update packages that we need up to date."
   ]
  },
  {
   "cell_type": "code",
   "execution_count": null,
   "metadata": {},
   "outputs": [],
   "source": [
    "!pip install -U jupyter"
   ]
  },
  {
   "cell_type": "code",
   "execution_count": null,
   "metadata": {},
   "outputs": [],
   "source": [
    "!pip install sparkmagic"
   ]
  },
  {
   "cell_type": "code",
   "execution_count": null,
   "metadata": {},
   "outputs": [],
   "source": [
    "!pip install --upgrade notebook==6.0.2"
   ]
  },
  {
   "cell_type": "code",
   "execution_count": null,
   "metadata": {},
   "outputs": [],
   "source": [
    "!pip install --upgrade sparkmagic==0.14.0"
   ]
  },
  {
   "cell_type": "code",
   "execution_count": null,
   "metadata": {},
   "outputs": [],
   "source": [
    "!pip install --upgrade jupyter-core==4.6.0"
   ]
  },
  {
   "cell_type": "code",
   "execution_count": null,
   "metadata": {},
   "outputs": [],
   "source": [
    "!pip install jupyterthemes"
   ]
  },
  {
   "cell_type": "code",
   "execution_count": 10,
   "metadata": {},
   "outputs": [
    {
     "name": "stdout",
     "output_type": "stream",
     "text": [
      "Available Themes: \n",
      "   chesterish\n",
      "   grade3\n",
      "   gruvboxd\n",
      "   gruvboxl\n",
      "   monokai\n",
      "   oceans16\n",
      "   onedork\n",
      "   solarizedd\n",
      "   solarizedl\n"
     ]
    }
   ],
   "source": [
    "!jt -l"
   ]
  },
  {
   "cell_type": "markdown",
   "metadata": {},
   "source": [
    "## **Font and Size**\n",
    "Jupyterthemes allow for so much more than just changing the themes. It can also extend to fonts, font size, text, and more. Below you can see their whole command line options. For this notebook, we'll be experimenting with fonts for the different cells and their sizes. In this notebook, we'll be using the solarizedl theme, Source Code Pro for the code cell font, Source Sans for the notebook font, a notebook font of size 11, a text cell font of Crimson Serif, the text cell font size to 11, and the Output Area fontsize to 8."
   ]
  },
  {
   "cell_type": "code",
   "execution_count": 11,
   "metadata": {},
   "outputs": [],
   "source": [
    "!jt -t solarizedl -f sourcemed -nf sourcesans -nfs 11 -tf crimsonserif -tfs 11 -ofs 8"
   ]
  },
  {
   "cell_type": "markdown",
   "metadata": {},
   "source": [
    "After inputting your preferences, you've made the biggest changes to the aesthetics! The reader will have plenty of visual interest, but what about readibility? Functionality? The last step we'll do is add notebook extensions to increase functionality on both ends--for the reader and creators."
   ]
  },
  {
   "cell_type": "markdown",
   "metadata": {},
   "source": [
    "## **Extensions**\n",
    "Jupyter notebooks are great a great tool to use for a variety of reasons, especially considering it was made to have be an extendable environment. But what are extensions? They're simple tools usually coded in Javascript which can be added on to notebooks to increase their functionality. Some of the extensions that we'll be using include spellchecking and table of contents. First, we need to install and enable the extension manager, since its default is turned off."
   ]
  },
  {
   "cell_type": "code",
   "execution_count": null,
   "metadata": {},
   "outputs": [],
   "source": [
    "!pip install https://github.com/ipython-contrib/jupyter_contrib_nbextensions/tarball/master"
   ]
  },
  {
   "cell_type": "code",
   "execution_count": null,
   "metadata": {},
   "outputs": [],
   "source": [
    "!jupyter contrib nbextension install --user"
   ]
  },
  {
   "cell_type": "code",
   "execution_count": null,
   "metadata": {},
   "outputs": [],
   "source": [
    "!jupyter nbextension enable codefolding/main"
   ]
  },
  {
   "cell_type": "code",
   "execution_count": null,
   "metadata": {},
   "outputs": [],
   "source": [
    "!jupyter nbextension enable spellchecker/main"
   ]
  },
  {
   "cell_type": "code",
   "execution_count": null,
   "metadata": {},
   "outputs": [],
   "source": [
    "!jupyter nbextension enable table_beautifier/main"
   ]
  },
  {
   "cell_type": "markdown",
   "metadata": {},
   "source": [
    "# ***Data Architecture***\n",
    "Throughout this semester we have learned about many AWS services that can be useful for running big data. Some of the services we used for our project are: Registry of Open Data, s3, EC2 instance, and SageMaker. Using draw.io, we created a diagram to show our workflow.\n",
    "![Data Architecture](QTM350_FinalProject.png)"
   ]
  },
  {
   "cell_type": "markdown",
   "metadata": {},
   "source": [
    "# ***Cleaning & Analysis***\n",
    "\n",
    "## **Elizabeth Bryant**\n",
    "\n",
    "First, we started by accessing the data from the Open Data Registry using the Amazon Resource Name and creating our own s3 bucket. We used the exploring-data notebook from the aws-open-data-analytics-notebooks repository to set up our project (https://github.com/aws-samples/aws-open-data-analytics-notebooks)."
   ]
  },
  {
   "cell_type": "code",
   "execution_count": 18,
   "metadata": {},
   "outputs": [],
   "source": [
    "# Setting up environment\n",
    "import boto3\n",
    "import botocore\n",
    "import pandas as pd\n",
    "from IPython.display import display, Markdown"
   ]
  },
  {
   "cell_type": "code",
   "execution_count": 19,
   "metadata": {},
   "outputs": [],
   "source": [
    "# Using boto3 to access s3 API\n",
    "s3 = boto3.client('s3')\n",
    "s3_resource = boto3.resource('s3')"
   ]
  },
  {
   "cell_type": "code",
   "execution_count": 20,
   "metadata": {},
   "outputs": [],
   "source": [
    "# Creating a unique s3 bucket\n",
    "def create_bucket(bucket):\n",
    "    import logging\n",
    "\n",
    "    try:\n",
    "        s3.create_bucket(Bucket=bucket)\n",
    "    except botocore.exceptions.ClientError as e:\n",
    "        logging.error(e)\n",
    "        return 'Bucket ' + bucket + ' could not be created.'\n",
    "    return 'Created or already exists ' + bucket + ' bucket.'"
   ]
  },
  {
   "cell_type": "markdown",
   "metadata": {},
   "source": [
    "#### Note\n",
    "Each group member made their own s3 bucket to work with since s3 bucket names have to be unique universally. This unique bucket is useful for the user to save the data they are working with and access it later."
   ]
  },
  {
   "cell_type": "code",
   "execution_count": 9,
   "metadata": {},
   "outputs": [
    {
     "data": {
      "text/plain": [
       "'Created or already exists open-data-analytics-noaa bucket.'"
      ]
     },
     "execution_count": 9,
     "metadata": {},
     "output_type": "execute_result"
    }
   ],
   "source": [
    "create_bucket('open-data-analytics-noaa')"
   ]
  },
  {
   "cell_type": "code",
   "execution_count": 13,
   "metadata": {},
   "outputs": [],
   "source": [
    "# List bucket to confirm that it is created\n",
    "def list_buckets(match=''):\n",
    "    response = s3.list_buckets()\n",
    "    if match:\n",
    "        print(f'Existing buckets containing \"{match}\" string:')\n",
    "    else:\n",
    "        print('All existing buckets:')\n",
    "    for bucket in response['Buckets']:\n",
    "        if match:\n",
    "            if match in bucket[\"Name\"]:\n",
    "                print(f'  {bucket[\"Name\"]}')"
   ]
  },
  {
   "cell_type": "code",
   "execution_count": 11,
   "metadata": {},
   "outputs": [
    {
     "name": "stdout",
     "output_type": "stream",
     "text": [
      "Existing buckets containing \"noaa\" string:\n",
      "  open-data-analytics-noaa\n"
     ]
    }
   ],
   "source": [
    "list_buckets(match='noaa')"
   ]
  },
  {
   "cell_type": "code",
   "execution_count": 34,
   "metadata": {},
   "outputs": [],
   "source": [
    "# List bucket contents: Allows us to access and see the contents of the bucket that contains the data we want\n",
    "def list_bucket_contents(bucket, match='', size_mb=0):\n",
    "    bucket_resource = s3_resource.Bucket(bucket)\n",
    "    total_size_gb = 0\n",
    "    total_files = 0\n",
    "    match_size_gb = 0\n",
    "    match_files = 0\n",
    "    for key in bucket_resource.objects.all():\n",
    "        key_size_mb = key.size/1024/1024\n",
    "        total_size_gb += key_size_mb\n",
    "        total_files += 1\n",
    "        list_check = False\n",
    "        if not match:\n",
    "            list_check = True\n",
    "        elif match in key.key:\n",
    "            list_check = True\n",
    "        if list_check and not size_mb:\n",
    "            match_files += 1\n",
    "            match_size_gb += key_size_mb\n",
    "            print(f'{key.key} ({key_size_mb:3.0f}MB)')\n",
    "        elif list_check and key_size_mb <= size_mb:\n",
    "            match_files += 1\n",
    "            match_size_gb += key_size_mb\n",
    "            print(f'{key.key} ({key_size_mb:3.0f}MB)')\n",
    "\n",
    "    if match:\n",
    "        print(f'Matched file size is {match_size_gb/1024:3.1f}GB with {match_files} files')            \n",
    "    \n",
    "    print(f'Bucket {bucket} total size is {total_size_gb/1024:3.1f}GB with {total_files} files')"
   ]
  },
  {
   "cell_type": "code",
   "execution_count": 37,
   "metadata": {},
   "outputs": [
    {
     "name": "stdout",
     "output_type": "stream",
     "text": [
      "csv.gz/2019.csv.gz (196MB)\n",
      "Matched file size is 0.2GB with 1 files\n",
      "Bucket noaa-ghcn-pds total size is 110.7GB with 527 files\n"
     ]
    }
   ],
   "source": [
    "# Lists the files in the NOAA Global Historical Climatology Network Daily data\n",
    "list_bucket_contents(bucket='noaa-ghcn-pds', match='2019.csv', size_mb= 1000)"
   ]
  },
  {
   "cell_type": "code",
   "execution_count": 38,
   "metadata": {},
   "outputs": [
    {
     "name": "stdout",
     "output_type": "stream",
     "text": [
      "csv.gz/1919.csv.gz ( 49MB)\n",
      "csv/1919.csv (307MB)\n",
      "Matched file size is 0.3GB with 2 files\n",
      "Bucket noaa-ghcn-pds total size is 110.7GB with 527 files\n"
     ]
    }
   ],
   "source": [
    "# Lists the files in the NOAA Global Historical Climatology Network Daily data\n",
    "list_bucket_contents(bucket='noaa-ghcn-pds', match='1919.csv', size_mb= 1000)"
   ]
  },
  {
   "cell_type": "code",
   "execution_count": 2,
   "metadata": {},
   "outputs": [],
   "source": [
    "# Previewing the csv files that contain the data\n",
    "def preview_csv_dataset(bucket, key, rows=10):\n",
    "    data_source = {\n",
    "            'Bucket': bucket,\n",
    "            'Key': key\n",
    "        }\n",
    "    # Generate the URL to get Key from Bucket\n",
    "    url = s3.generate_presigned_url(\n",
    "        ClientMethod = 'get_object',\n",
    "        Params = data_source\n",
    "    )\n",
    "\n",
    "    data = pd.read_csv(url, nrows=rows, header = None)\n",
    "    return data"
   ]
  },
  {
   "cell_type": "markdown",
   "metadata": {},
   "source": [
    "The data we chose was from 2019 and 1919, so we can compare the climate 100 years apart. The `rows` argument allows us to set the number of rows we would like to see in the preview. These Open Data Registry datasets can contain millions of rows, so this argument is very useful to see a preview of what we're analyzing."
   ]
  },
  {
   "cell_type": "code",
   "execution_count": 9,
   "metadata": {},
   "outputs": [],
   "source": [
    "df_2019 = preview_csv_dataset(bucket='noaa-ghcn-pds', key='csv/2019.csv', rows = 1000)"
   ]
  },
  {
   "cell_type": "code",
   "execution_count": 10,
   "metadata": {},
   "outputs": [],
   "source": [
    "df_1919 = preview_csv_dataset(bucket='noaa-ghcn-pds', key='csv/1919.csv', rows = 1000)"
   ]
  },
  {
   "cell_type": "markdown",
   "metadata": {},
   "source": [
    "Now that we have chosen our datasets, we can copy our file into the bucket we created earlier."
   ]
  },
  {
   "cell_type": "code",
   "execution_count": 17,
   "metadata": {},
   "outputs": [],
   "source": [
    "# Check and see if file exists in the bucket we created earlier. Then copy the data from NOAA into our own bucket\n",
    "def key_exists(bucket, key):\n",
    "    try:\n",
    "        s3_resource.Object(bucket, key).load()\n",
    "    except botocore.exceptions.ClientError as e:\n",
    "        if e.response['Error']['Code'] == \"404\":\n",
    "            # The key does not exist.\n",
    "            return(False)\n",
    "        else:\n",
    "            # Something else has gone wrong.\n",
    "            raise\n",
    "    else:\n",
    "        # The key does exist.\n",
    "        return(True)\n",
    "\n",
    "def copy_among_buckets(from_bucket, from_key, to_bucket, to_key):\n",
    "    if not key_exists(to_bucket, to_key):\n",
    "        s3_resource.meta.client.copy({'Bucket': from_bucket, 'Key': from_key}, \n",
    "                                        to_bucket, to_key)        \n",
    "        print(f'File {to_key} saved to S3 bucket {to_bucket}')\n",
    "    else:\n",
    "        print(f'File {to_key} already exists in S3 bucket {to_bucket}') "
   ]
  },
  {
   "cell_type": "code",
   "execution_count": 18,
   "metadata": {},
   "outputs": [
    {
     "name": "stdout",
     "output_type": "stream",
     "text": [
      "File NOAA_2019.csv already exists in S3 bucket open-data-analytics-noaa\n"
     ]
    }
   ],
   "source": [
    "copy_among_buckets(from_bucket='noaa-ghcn-pds', from_key='csv/2019.csv',to_bucket='open-data-analytics-noaa', to_key='NOAA_2019.csv')"
   ]
  },
  {
   "cell_type": "code",
   "execution_count": 19,
   "metadata": {},
   "outputs": [
    {
     "name": "stdout",
     "output_type": "stream",
     "text": [
      "File NOAA_1919.csv already exists in S3 bucket open-data-analytics-noaa\n"
     ]
    }
   ],
   "source": [
    "copy_among_buckets(from_bucket='noaa-ghcn-pds', from_key='csv/1919.csv',to_bucket='open-data-analytics-noaa', to_key='NOAA_1919.csv')"
   ]
  },
  {
   "cell_type": "markdown",
   "metadata": {},
   "source": [
    "To confirm that the files were copied over, I went back to my s3 to make sure the files were in the bucket. As you can see the 2019 file, is 1.1 GB which is HUGE. This is why we access s3 buckets for data instead of saving the files onto our device. Downloading files that size are sometimes too big to work with on our own machines. \n",
    "![s3](NOAA_s3.png)"
   ]
  },
  {
   "cell_type": "markdown",
   "metadata": {},
   "source": [
    "To begin cleaning our data, you can see that our data does not have column names. The documentation lists what each column means (https://docs.opendata.aws/noaa-ghcn-pds/readme.html). We can begin by assigning column names to make it easier to read."
   ]
  },
  {
   "cell_type": "code",
   "execution_count": 21,
   "metadata": {},
   "outputs": [],
   "source": [
    "#This access the bucket we created and all the data\n",
    "bucket='open-data-analytics-noaa'\n",
    "data_key = 'NOAA_2019.csv'\n",
    "data_location = 's3://{}/{}'.format(bucket, data_key) ",
    "\n",
    "df_2019 = pd.read_csv(data_location)"
   ]
  },
  {
   "cell_type": "code",
   "execution_count": 22,
   "metadata": {},
   "outputs": [],
   "source": [
    "#Checking to see what columns look like\n",
    "df_2019.head()\n",
    "#Renaming Columns\n",
    "df_2019.columns = [\"ID\",\"Date\",\"Element\",\"Element_Value\",\"MFlag\",\"QFlag\",\"SFlag\",\"Obs_Time\"]"
   ]
  },
  {
   "cell_type": "code",
   "execution_count": 23,
   "metadata": {},
   "outputs": [],
   "source": [
    "#This access the bucket we created\n",
    "bucket='open-data-analytics-noaa'\n",
    "data_key = 'NOAA_1919.csv'\n",
    "data_location = 's3://{}/{}'.format(bucket, data_key) ",
    "\n",
    "df_1919 = pd.read_csv(data_location)"
   ]
  },
  {
   "cell_type": "code",
   "execution_count": 24,
   "metadata": {},
   "outputs": [
    {
     "data": {
      "text/html": [
       "<div>\n",
       "<style scoped>\n",
       "    .dataframe tbody tr th:only-of-type {\n",
       "        vertical-align: middle;\n",
       "    }\n",
       "\n",
       "    .dataframe tbody tr th {\n",
       "        vertical-align: top;\n",
       "    }\n",
       "\n",
       "    .dataframe thead th {\n",
       "        text-align: right;\n",
       "    }\n",
       "</style>\n",
       "<table border=\"1\" class=\"dataframe\">\n",
       "  <thead>\n",
       "    <tr style=\"text-align: right;\">\n",
       "      <th></th>\n",
       "      <th>ID</th>\n",
       "      <th>Date</th>\n",
       "      <th>Element</th>\n",
       "      <th>Element_Value</th>\n",
       "      <th>MFlag</th>\n",
       "      <th>QFlag</th>\n",
       "      <th>SFlag</th>\n",
       "      <th>Obs_Time</th>\n",
       "    </tr>\n",
       "  </thead>\n",
       "  <tbody>\n",
       "    <tr>\n",
       "      <th>0</th>\n",
       "      <td>USC00242347</td>\n",
       "      <td>19190101</td>\n",
       "      <td>TMAX</td>\n",
       "      <td>-94</td>\n",
       "      <td>NaN</td>\n",
       "      <td>NaN</td>\n",
       "      <td>6</td>\n",
       "      <td>NaN</td>\n",
       "    </tr>\n",
       "    <tr>\n",
       "      <th>1</th>\n",
       "      <td>USC00242347</td>\n",
       "      <td>19190101</td>\n",
       "      <td>TMIN</td>\n",
       "      <td>-183</td>\n",
       "      <td>NaN</td>\n",
       "      <td>NaN</td>\n",
       "      <td>6</td>\n",
       "      <td>NaN</td>\n",
       "    </tr>\n",
       "    <tr>\n",
       "      <th>2</th>\n",
       "      <td>USC00242347</td>\n",
       "      <td>19190101</td>\n",
       "      <td>TOBS</td>\n",
       "      <td>-183</td>\n",
       "      <td>NaN</td>\n",
       "      <td>NaN</td>\n",
       "      <td>6</td>\n",
       "      <td>NaN</td>\n",
       "    </tr>\n",
       "    <tr>\n",
       "      <th>3</th>\n",
       "      <td>USC00242347</td>\n",
       "      <td>19190101</td>\n",
       "      <td>PRCP</td>\n",
       "      <td>58</td>\n",
       "      <td>NaN</td>\n",
       "      <td>NaN</td>\n",
       "      <td>6</td>\n",
       "      <td>NaN</td>\n",
       "    </tr>\n",
       "    <tr>\n",
       "      <th>4</th>\n",
       "      <td>USC00242347</td>\n",
       "      <td>19190101</td>\n",
       "      <td>SNOW</td>\n",
       "      <td>102</td>\n",
       "      <td>NaN</td>\n",
       "      <td>NaN</td>\n",
       "      <td>6</td>\n",
       "      <td>NaN</td>\n",
       "    </tr>\n",
       "  </tbody>\n",
       "</table>\n",
       "</div>"
      ],
      "text/plain": [
       "            ID      Date Element  Element_Value MFlag QFlag SFlag  Obs_Time\n",
       "0  USC00242347  19190101    TMAX            -94   NaN   NaN     6       NaN\n",
       "1  USC00242347  19190101    TMIN           -183   NaN   NaN     6       NaN\n",
       "2  USC00242347  19190101    TOBS           -183   NaN   NaN     6       NaN\n",
       "3  USC00242347  19190101    PRCP             58   NaN   NaN     6       NaN\n",
       "4  USC00242347  19190101    SNOW            102   NaN   NaN     6       NaN"
      ]
     },
     "execution_count": 24,
     "metadata": {},
     "output_type": "execute_result"
    }
   ],
   "source": [
    "#Renaming Columns\n",
    "df_1919.columns = [\"ID\",\"Date\",\"Element\",\"Element_Value\",\"MFlag\",\"QFlag\",\"SFlag\",\"Obs_Time\"]\n",
    "df_1919.head()"
   ]
  },
  {
   "cell_type": "markdown",
   "metadata": {},
   "source": [
    "Great! We have real columns now. The 'Element' column is all mixed up with different weather descriptions. With each element input, there is a value or measurement for that element in the Element_Value column. I think it would be interesting to see the averages for each element for the year of 2019, by using the `groupby` and `.mean()` argument."
   ]
  },
  {
   "cell_type": "code",
   "execution_count": 25,
   "metadata": {},
   "outputs": [
    {
     "data": {
      "text/plain": [
       "Element\n",
       "AWDR     524.038615\n",
       "AWND      32.874952\n",
       "DAPR       4.463401\n",
       "DASF       2.250000\n",
       "DATN       2.700334\n",
       "DATX       2.723838\n",
       "DWPR       3.261514\n",
       "EVAP      85.118519\n",
       "MDPR     163.841160\n",
       "MDSF      63.250000\n",
       "MDTN     113.996287\n",
       "MDTX     277.794862\n",
       "MNPN     120.899621\n",
       "MXPN     242.214020\n",
       "PGTM    1295.595724\n",
       "PRCP      28.035891\n",
       "PSUN      34.086179\n",
       "SN31     104.072244\n",
       "SN32     135.315890\n",
       "SN33     106.268001\n",
       "SN35     121.024306\n",
       "SN36     103.654219\n",
       "SN51     145.887338\n",
       "SN52     130.877908\n",
       "SN53      88.066745\n",
       "SN55      76.587108\n",
       "SN56      67.294766\n",
       "SNOW       3.103511\n",
       "SNWD      92.672879\n",
       "SX31     173.073096\n",
       "           ...     \n",
       "TAVG     103.570584\n",
       "THIC      49.178167\n",
       "TMAX     163.687282\n",
       "TMIN      51.899259\n",
       "TOBS      78.408708\n",
       "TSUN     259.629690\n",
       "WDF2     201.407917\n",
       "WDF5     201.300902\n",
       "WDFG      36.605602\n",
       "WDMV     758.573861\n",
       "WESD     948.580654\n",
       "WESF      12.791336\n",
       "WSF2      81.351835\n",
       "WSF5     109.846294\n",
       "WSFG     417.991091\n",
       "WSFI      51.110776\n",
       "WT01       1.000000\n",
       "WT02       1.000000\n",
       "WT03       1.000000\n",
       "WT04       1.000000\n",
       "WT05       1.000000\n",
       "WT06       1.000000\n",
       "WT07       1.000000\n",
       "WT08       1.000000\n",
       "WT09       1.000000\n",
       "WT10       1.000000\n",
       "WT11       1.000000\n",
       "WT15       1.000000\n",
       "WT16       1.000000\n",
       "WT18       1.000000\n",
       "Name: Element_Value, Length: 70, dtype: float64"
      ]
     },
     "execution_count": 25,
     "metadata": {},
     "output_type": "execute_result"
    }
   ],
   "source": [
    "df_2019_Element = df_2019.groupby(by = ['Element'])['Element_Value'].mean()\n",
    "df_2019_Element"
   ]
  },
  {
   "cell_type": "code",
   "execution_count": 26,
   "metadata": {},
   "outputs": [
    {
     "data": {
      "text/plain": [
       "Element\n",
       "DAPR      2.541485\n",
       "DASF      2.222222\n",
       "DATN      2.223529\n",
       "DATX      2.170455\n",
       "DWPR      1.051282\n",
       "EVAP    495.600078\n",
       "MDPR    123.063708\n",
       "MDSF     97.515306\n",
       "MDTN    110.352941\n",
       "MDTX    268.090909\n",
       "PRCP     21.115023\n",
       "SNOW      3.463489\n",
       "SNWD     62.365853\n",
       "TAVG     11.461355\n",
       "TMAX    168.236541\n",
       "TMIN     40.443888\n",
       "TOBS    121.983176\n",
       "WDMV    133.777817\n",
       "WT01      1.000000\n",
       "WT03      1.000000\n",
       "WT04      1.000000\n",
       "WT05      1.000000\n",
       "WT06      1.000000\n",
       "WT07      1.000000\n",
       "WT08      1.000000\n",
       "WT09      1.000000\n",
       "WT10      1.000000\n",
       "WT11      1.000000\n",
       "WT14      1.000000\n",
       "WT16      1.000000\n",
       "WT18      1.000000\n",
       "Name: Element_Value, dtype: float64"
      ]
     },
     "execution_count": 26,
     "metadata": {},
     "output_type": "execute_result"
    }
   ],
   "source": [
    "df_1919_Element = df_1919.groupby(by = ['Element'])['Element_Value'].mean()\n",
    "df_1919_Element"
   ]
  },
  {
   "cell_type": "markdown",
   "metadata": {},
   "source": [
    "The five main elements are precipitation(PRCP), snowfall(SNOW), snow depth(SNWD), maximum temperature(TMAX), and minimum temperature(TMIN). However, there are different subcategories of each, and these descriptions can be found in the documention. \n",
    "\n",
    "The list of outputs is kind of difficult to look at, so it would be better to read in a data visualization."
   ]
  },
  {
   "cell_type": "code",
   "execution_count": 27,
   "metadata": {},
   "outputs": [
    {
     "data": {
      "text/plain": [
       "Text(0.5, 1.0, 'Average Measure of Elements - 2019')"
      ]
     },
     "execution_count": 27,
     "metadata": {},
     "output_type": "execute_result"
    }
   ],
   "source": [
    "plot = df_2019_Element.plot.bar(x='Element', y = 'Element_Value',bottom = 1)\n",
    "plot.set_ylabel('Element Value')\n",
    "plot.set_title('Average Measure of Elements - 2019')"
   ]
  },
  {
   "cell_type": "markdown",
   "metadata": {},
   "source": [
    "The Peak Gust Time(PGTM) has the highest average measurement of 1295.595724, which is measured as time in hours and minutes. The lowest average measurements were te wind speeds at 1.0000 meausred in various ways."
   ]
  },
  {
   "cell_type": "code",
   "execution_count": 28,
   "metadata": {},
   "outputs": [
    {
     "data": {
      "text/plain": [
       "Text(0.5, 1.0, 'Average Measure of Elements - 1919')"
      ]
     },
     "execution_count": 28,
     "metadata": {},
     "output_type": "execute_result"
    },
    {
     "data": {
      "image/png": "[encoded data removed]",
      "text/plain": [
       "<Figure size 432x288 with 1 Axes>"
      ]
     },
     "metadata": {},
     "output_type": "display_data"
    }
   ],
   "source": [
    "plot = df_1919_Element.plot.bar(x='Element', y = 'Element_Value',bottom = 0.5)\n",
    "plot.set_ylabel('Element Value')\n",
    "plot.set_title('Average Measure of Elements - 1919')"
   ]
  },
  {
   "cell_type": "markdown",
   "metadata": {},
   "source": [
    "The Peak Gust Time(PGTM) was not recorded in 1919. This could be because over the years data collection has become more precise and has extended to greater categories. The wind measurements did not vary between the two years. However, temperature did change immensely. The average temperature in 2019 was 103.570584 tenths of a degree celsius and the average temperature in 1919 was 11.461355. Likewise, when comparing the minimum temperatures, 2019 had a higher minimum temperature than 1919. Overall, this shows some evidence that climate has changed in the past 100 years."
   ]
  },
  {
   "cell_type": "markdown",
   "metadata": {},
   "source": [
    "## **Aaron Leonard**\n",
    "If you don't want a graph, you can simply run an argument, that takes the csv and aggregates it down to a single number.\n",
    "We use median() and mean() to get the median and mean of TMAX and TMIN in both 1919 and 2019.\n",
    "The median and mean of TMAX in 2019 is 17.5 and 16.4 respectively:"
   ]
  },
  {
   "cell_type": "code",
   "execution_count": 29,
   "metadata": {},
   "outputs": [
    {
     "data": {
      "text/plain": [
       "17.5"
      ]
     },
     "execution_count": 29,
     "metadata": {},
     "output_type": "execute_result"
    }
   ],
   "source": [
    "df_2019[df_2019['Element']=='TMAX']['Element_Value'].median()/10 # Divide by 10 because the max tempertures are measured in tenth of celcius degree."
   ]
  },
  {
   "cell_type": "code",
   "execution_count": 30,
   "metadata": {},
   "outputs": [
    {
     "data": {
      "text/plain": [
       "16.368728178213615"
      ]
     },
     "execution_count": 30,
     "metadata": {},
     "output_type": "execute_result"
    }
   ],
   "source": [
    "df_2019[df_2019['Element']=='TMAX']['Element_Value'].mean()/10"
   ]
  },
  {
   "cell_type": "code",
   "execution_count": 31,
   "metadata": {},
   "outputs": [
    {
     "data": {
      "text/plain": [
       "18.3"
      ]
     },
     "execution_count": 31,
     "metadata": {},
     "output_type": "execute_result"
    }
   ],
   "source": [
    "df_1919[df_1919['Element']=='TMAX']['Element_Value'].median()/10"
   ]
  },
  {
   "cell_type": "code",
   "execution_count": 32,
   "metadata": {},
   "outputs": [
    {
     "data": {
      "text/plain": [
       "16.823654077359357"
      ]
     },
     "execution_count": 32,
     "metadata": {},
     "output_type": "execute_result"
    }
   ],
   "source": [
    "df_1919[df_1919['Element']=='TMAX']['Element_Value'].mean()/10"
   ]
  },
  {
   "cell_type": "markdown",
   "metadata": {},
   "source": [
    "It seems that the overall maximum temperature in 2019 is lower than that in 1919.\n",
    "The median and mean of TMIN in 2019 is 5.7 and 5.2 respectively:"
   ]
  },
  {
   "cell_type": "code",
   "execution_count": 33,
   "metadata": {},
   "outputs": [
    {
     "data": {
      "text/plain": [
       "5.7"
      ]
     },
     "execution_count": 33,
     "metadata": {},
     "output_type": "execute_result"
    }
   ],
   "source": [
    "df_2019[df_2019['Element']=='TMIN']['Element_Value'].median()/10 # Divide by 10 because the max tempertures are measured in tenth of celcius degree."
   ]
  },
  {
   "cell_type": "code",
   "execution_count": 34,
   "metadata": {},
   "outputs": [
    {
     "data": {
      "text/plain": [
       "5.189925900894149"
      ]
     },
     "execution_count": 34,
     "metadata": {},
     "output_type": "execute_result"
    }
   ],
   "source": [
    "df_2019[df_2019['Element']=='TMIN']['Element_Value'].mean()/10"
   ]
  },
  {
   "cell_type": "markdown",
   "metadata": {},
   "source": [
    "The median and mean of TMIN in 1919 is 4.4 and 4.0 respectively:"
   ]
  },
  {
   "cell_type": "code",
   "execution_count": 35,
   "metadata": {},
   "outputs": [
    {
     "data": {
      "text/plain": [
       "4.4"
      ]
     },
     "execution_count": 35,
     "metadata": {},
     "output_type": "execute_result"
    }
   ],
   "source": [
    "df_1919[df_1919['Element']=='TMIN']['Element_Value'].median()/10"
   ]
  },
  {
   "cell_type": "code",
   "execution_count": 36,
   "metadata": {},
   "outputs": [
    {
     "data": {
      "text/plain": [
       "4.044388821263414"
      ]
     },
     "execution_count": 36,
     "metadata": {},
     "output_type": "execute_result"
    }
   ],
   "source": [
    "df_1919[df_1919['Element']=='TMIN']['Element_Value'].mean()/10"
   ]
  },
  {
   "cell_type": "markdown",
   "metadata": {},
   "source": [
    "It seems that the overall minimmum temperature in 2019 is lower than that in 1919."
   ]
  },
  {
   "cell_type": "markdown",
   "metadata": {},
   "source": [
    "## **Olivia Song**\n",
    "\n",
    "The dataset contains an observation time variable that is set up as yyyy/mm/dd. It would be easier to read if it could be split up. "
   ]
  },
  {
   "cell_type": "markdown",
   "metadata": {},
   "source": [
    "## **Datetime Package**\n",
    "You might have noticed that the \"Date\" column is in integer type, which will cause some trouble if we want to plot a time series graph. Analyzing datasets with dates and times is often very cumbersome. Months of different lengths, different distributions of weekdays and weekends, leap years, and the dreaded timezones are just a few things you may have to consider depending on your context. For this reason, Python has a data type specifically designed for dates and times called datetime. In this specific case, you may want to convert \"Date\" colulmn from integer type to datetime type.\n",
    "We first import the package.\n"
   ]
  },
  {
   "cell_type": "code",
   "execution_count": 37,
   "metadata": {},
   "outputs": [],
   "source": [
    "from datetime import datetime, timedelta"
   ]
  },
  {
   "cell_type": "markdown",
   "metadata": {},
   "source": [
    "Then we write a function that can help us to convert the datetime."
   ]
  },
  {
   "cell_type": "code",
   "execution_count": 38,
   "metadata": {},
   "outputs": [],
   "source": [
    "def toDatetime(x):\n",
    "    x = str(x) # convert the integer type to string.\n",
    "    date = datetime(year=int(x[0:4]), month=int(x[4:6]), day=int(x[6:8])) # cut the string into pieces and convert them to datetime type.\n",
    "    return date"
   ]
  },
  {
   "cell_type": "markdown",
   "metadata": {},
   "source": [
    "Since we want to apply the function to all rows of \"Date\" column, we have to convert the dataset to a pandas datafreme and then use \".apply()\" to apply the function."
   ]
  },
  {
   "cell_type": "code",
   "execution_count": 39,
   "metadata": {},
   "outputs": [],
   "source": [
    "df_1919['Date'] = df_1919['Date'].apply(toDatetime)"
   ]
  },
  {
   "cell_type": "markdown",
   "metadata": {},
   "source": [
    "Because of the limitation of the memory space in AWS Sagemaker Notebook, below we will only show the example on 1919 data rather than 2019 data, which is a larger dataset that can occationally cause the kernel crash.\n",
    "Let's look at the new \"Date\" column."
   ]
  },
  {
   "cell_type": "code",
   "execution_count": 40,
   "metadata": {},
   "outputs": [
    {
     "data": {
      "text/html": [
       "<div>\n",
       "<style scoped>\n",
       "    .dataframe tbody tr th:only-of-type {\n",
       "        vertical-align: middle;\n",
       "    }\n",
       "\n",
       "    .dataframe tbody tr th {\n",
       "        vertical-align: top;\n",
       "    }\n",
       "\n",
       "    .dataframe thead th {\n",
       "        text-align: right;\n",
       "    }\n",
       "</style>\n",
       "<table border=\"1\" class=\"dataframe\">\n",
       "  <thead>\n",
       "    <tr style=\"text-align: right;\">\n",
       "      <th></th>\n",
       "      <th>ID</th>\n",
       "      <th>Date</th>\n",
       "      <th>Element</th>\n",
       "      <th>Element_Value</th>\n",
       "      <th>MFlag</th>\n",
       "      <th>QFlag</th>\n",
       "      <th>SFlag</th>\n",
       "      <th>Obs_Time</th>\n",
       "    </tr>\n",
       "  </thead>\n",
       "  <tbody>\n",
       "    <tr>\n",
       "      <th>0</th>\n",
       "      <td>USC00242347</td>\n",
       "      <td>1919-01-01</td>\n",
       "      <td>TMAX</td>\n",
       "      <td>-94</td>\n",
       "      <td>NaN</td>\n",
       "      <td>NaN</td>\n",
       "      <td>6</td>\n",
       "      <td>NaN</td>\n",
       "    </tr>\n",
       "    <tr>\n",
       "      <th>1</th>\n",
       "      <td>USC00242347</td>\n",
       "      <td>1919-01-01</td>\n",
       "      <td>TMIN</td>\n",
       "      <td>-183</td>\n",
       "      <td>NaN</td>\n",
       "      <td>NaN</td>\n",
       "      <td>6</td>\n",
       "      <td>NaN</td>\n",
       "    </tr>\n",
       "    <tr>\n",
       "      <th>2</th>\n",
       "      <td>USC00242347</td>\n",
       "      <td>1919-01-01</td>\n",
       "      <td>TOBS</td>\n",
       "      <td>-183</td>\n",
       "      <td>NaN</td>\n",
       "      <td>NaN</td>\n",
       "      <td>6</td>\n",
       "      <td>NaN</td>\n",
       "    </tr>\n",
       "    <tr>\n",
       "      <th>3</th>\n",
       "      <td>USC00242347</td>\n",
       "      <td>1919-01-01</td>\n",
       "      <td>PRCP</td>\n",
       "      <td>58</td>\n",
       "      <td>NaN</td>\n",
       "      <td>NaN</td>\n",
       "      <td>6</td>\n",
       "      <td>NaN</td>\n",
       "    </tr>\n",
       "    <tr>\n",
       "      <th>4</th>\n",
       "      <td>USC00242347</td>\n",
       "      <td>1919-01-01</td>\n",
       "      <td>SNOW</td>\n",
       "      <td>102</td>\n",
       "      <td>NaN</td>\n",
       "      <td>NaN</td>\n",
       "      <td>6</td>\n",
       "      <td>NaN</td>\n",
       "    </tr>\n",
       "  </tbody>\n",
       "</table>\n",
       "</div>"
      ],
      "text/plain": [
       "            ID       Date Element  Element_Value MFlag QFlag SFlag  Obs_Time\n",
       "0  USC00242347 1919-01-01    TMAX            -94   NaN   NaN     6       NaN\n",
       "1  USC00242347 1919-01-01    TMIN           -183   NaN   NaN     6       NaN\n",
       "2  USC00242347 1919-01-01    TOBS           -183   NaN   NaN     6       NaN\n",
       "3  USC00242347 1919-01-01    PRCP             58   NaN   NaN     6       NaN\n",
       "4  USC00242347 1919-01-01    SNOW            102   NaN   NaN     6       NaN"
      ]
     },
     "execution_count": 40,
     "metadata": {},
     "output_type": "execute_result"
    }
   ],
   "source": [
    "df_1919.head()"
   ]
  },
  {
   "cell_type": "markdown",
   "metadata": {},
   "source": [
    "Now it's in datetime type!"
   ]
  },
  {
   "cell_type": "markdown",
   "metadata": {},
   "source": [
    "## **Indexing pandas DataFrames with DatetimeIndex**\n",
    "After you've converted the date column to the datetime format, it is usually a good idea to index your DataFrame by the date, creating the DatetimeIndex. Like the datetime type, the DatetimeIndex is a special index type designed to work with dates and times. By using the .set_index() method with the inplace argument set equal to True, you can remove the date column from your dataset and append it as the index of your DataFrame:"
   ]
  },
  {
   "cell_type": "code",
   "execution_count": 41,
   "metadata": {},
   "outputs": [],
   "source": [
    "# Set index\n",
    "df_1919.set_index('Date', inplace=True)"
   ]
  },
  {
   "cell_type": "code",
   "execution_count": 42,
   "metadata": {},
   "outputs": [
    {
     "data": {
      "text/plain": [
       "Date\n",
       "1919-01-01    15.108004\n",
       "1919-01-02     1.982838\n",
       "1919-01-03   -12.692454\n",
       "1919-01-04    -7.371561\n",
       "1919-01-05    -1.551394\n",
       "1919-01-06    22.033986\n",
       "1919-01-07    38.292650\n",
       "1919-01-08    52.380656\n",
       "1919-01-09    48.297451\n",
       "1919-01-10    56.431831\n",
       "1919-01-11    56.592754\n",
       "1919-01-12    56.043205\n",
       "1919-01-13    65.478946\n",
       "1919-01-14    63.861656\n",
       "1919-01-15    62.596721\n",
       "1919-01-16    70.426507\n",
       "1919-01-17    79.092249\n",
       "1919-01-18    91.865757\n",
       "1919-01-19    90.257198\n",
       "1919-01-20    87.411427\n",
       "1919-01-21    88.330233\n",
       "1919-01-22    88.953800\n",
       "1919-01-23    88.586743\n",
       "1919-01-24    84.009254\n",
       "1919-01-25    78.549196\n",
       "1919-01-26    83.614059\n",
       "1919-01-27    82.900435\n",
       "1919-01-28    82.284434\n",
       "1919-01-29    82.474470\n",
       "1919-01-30    79.311991\n",
       "                ...    \n",
       "1919-12-02    19.616799\n",
       "1919-12-03    20.012342\n",
       "1919-12-04    34.089462\n",
       "1919-12-05    40.519220\n",
       "1919-12-06    49.507290\n",
       "1919-12-07    49.526606\n",
       "1919-12-08    19.067857\n",
       "1919-12-09     0.173674\n",
       "1919-12-10     1.459043\n",
       "1919-12-11    11.697144\n",
       "1919-12-12    24.615321\n",
       "1919-12-13    17.531380\n",
       "1919-12-14     5.352320\n",
       "1919-12-15    -5.915450\n",
       "1919-12-16     8.578151\n",
       "1919-12-17    19.133150\n",
       "1919-12-18    24.841729\n",
       "1919-12-19    33.365961\n",
       "1919-12-20    45.036394\n",
       "1919-12-21    54.564302\n",
       "1919-12-22    62.142896\n",
       "1919-12-23    69.026171\n",
       "1919-12-24    64.000000\n",
       "1919-12-25    56.826123\n",
       "1919-12-26    63.246549\n",
       "1919-12-27    66.940753\n",
       "1919-12-28    58.967751\n",
       "1919-12-29    63.944460\n",
       "1919-12-30    73.299200\n",
       "1919-12-31    61.578830\n",
       "Name: Element_Value, Length: 365, dtype: float64"
      ]
     },
     "execution_count": 42,
     "metadata": {},
     "output_type": "execute_result"
    }
   ],
   "source": [
    "df_1919TMAX= df_1919[df_1919['Element']=='TMAX']\n",
    "df_1919date=df_1919TMAX.groupby('Date')\n",
    "df_1919date[\"Element_Value\"].mean()"
   ]
  },
  {
   "cell_type": "markdown",
   "metadata": {},
   "source": [
    "## **Time Series Graph**\n",
    "\n",
    "Setting the DatetimeIndex in your DataFrame unlocks a whole set of useful functionalities. For example, when visualizing your time series data, pandas automatically creates reasonably spaced date labels for the x-axis:"
   ]
  },
  {
   "cell_type": "code",
   "execution_count": 43,
   "metadata": {},
   "outputs": [
    {
     "data": {
      "text/plain": [
       "<matplotlib.axes._subplots.AxesSubplot at 0x7f5c574e7eb8>"
      ]
     },
     "execution_count": 43,
     "metadata": {},
     "output_type": "execute_result"
    },
    {
     "data": {
      "image/png": "[encoded data removed]",
      "text/plain": [
       "<Figure size 432x288 with 1 Axes>"
      ]
     },
     "metadata": {},
     "output_type": "display_data"
    }
   ],
   "source": [
    "df_1919date_1 = df_1919date[\"Element_Value\"].mean()\n",
    "df_1919date_2 = pd.DataFrame(df_1919date_1)\n",
    "df_1919date_2.plot()"
   ]
  },
  {
   "cell_type": "markdown",
   "metadata": {},
   "source": [
    "From this graph, we can see the trend of the mean of TMAX through 1919 whole year. It reaches the highest point in August and the lowest point in mid January. Because of the memory space limitaiton, it is harder to plot the corresponsing graph in 2019. However, we believe you already learned the basic methods, namely, converting datetime type and indexing based on datetime, which you can apply when you want to plot other time series graphs."
   ]
  },
  {
   "cell_type": "markdown",
   "metadata": {},
   "source": [
    "## ***Conclusion***\n",
    "\n",
    "The research question we want to demonstrate is how climate has changed over 100 years, from 1919 to 2019. We first create unique s3 buckets since the datasets are huge. It is impossible for us to actually read in the dataset directly, so we have to use s3 buckets as a storage tool and copy the datasets we need into the buckets, and then do some processing. After cleaning the dataset and giving column names, we can compare the two plots of 1919 and 2019 with average measure of each element recorded directly and we can see that there is an approximately 10 degrees celsius difference in average temperature, indicating the climate has changed greatly over years."
   ]
  },
  {
   "cell_type": "markdown",
   "metadata": {},
   "source": [
    "However, after selecting the specific columns that we need and comparing the maximum and minimum temperature on average, we find out that there is actually a slight decrease of 0.5 degrees Celsius in maximum temperature and a 1 degree Celsius increase in minimum temperature. This does not fit the original assumption of great change in climate, so it raises a question about why the average temperature changes so much while the maximum even decreases a little."
   ]
  },
  {
   "cell_type": "markdown",
   "metadata": {},
   "source": [
    "In this case, we would like to take a closer look and see the difference in the distribution of the maximum temperature through the whole year. However, because of the limitation of memory, we can only see the change of average maximum temperature plot for 1919. Yet, we can still conclude that although the average maximum and minimum temperature do not seem to change much, the climate warming is happening since the increase in average temperature indicates an increase in hotter days in a year."
   ]
  },
  {
   "cell_type": "markdown",
   "metadata": {},
   "source": [
    "After finishing the notebook, we choose a theme and several extensions to make the webpage more reader friendly. Then, we use the code jupyter convert in the terminal of SageMaker to convert it into an html. Then we download the file and upload to the s3 bucket, setting the permissions to be open to the public."
   ]
  },
  {
   "cell_type": "markdown",
   "metadata": {},
   "source": [
    "From our work, people can get an idea of how climate changes in 100 years. They should also realize if they keep improving the technology but not at the same time protect the environment, there will be more hotter days and the minimum temperature will also rise. If they want to do analysis to see how other indexes of climate change, they can also view our project as a demo, as they can learn how to access data from s3 bucket from our work, which is a useful way to process large samples of data."
   ]
  },
  {
   "cell_type": "markdown",
   "metadata": {},
   "source": [
    "To improve our work, as people may want to see more directly from the graph of how the temperature changes each month correspondingly over time, we can use a notebook instance with a larger memory so that we can graph the plot of 2019 and compare it to the plot of 1919. Also, our conclusion can be more comprehensive if we can process more datasets and have graphs with larger time series."
   ]
  }
 ],
 "metadata": {
  "kernelspec": {
   "display_name": "conda_python3",
   "language": "python",
   "name": "conda_python3"
  },
  "language_info": {
   "codemirror_mode": {
    "name": "ipython",
    "version": 3
   },
   "file_extension": ".py",
   "mimetype": "text/x-python",
   "name": "python",
   "nbconvert_exporter": "python",
   "pygments_lexer": "ipython3",
   "version": "3.6.5"
  }
 },
 "nbformat": 4,
 "nbformat_minor": 4
}
