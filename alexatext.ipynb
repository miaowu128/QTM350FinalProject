{
 "cells": [
  {
   "cell_type": "markdown",
   "metadata": {},
   "source": [
    "# Themes and Extensions\n",
    "\n",
    "## Alexa\n",
    "\n",
    "Themes can be a very good way to engage the reader further, by providing different colors and fonts to break up the seas of white in the default Jupyter Notebook theme. We'll be doing so by using Jupyter Themes, a program created by Kyle Donovan, whose Github can be found here: https://github.com/dunovank/jupyter-themes. This Github helps provide basic information about setting up Jupyter Themes, as well as trouble-shooting. To get started, we need to install jupyterthemes, and install and update packages that we need up to date."
   ]
  },
  {
   "cell_type": "code",
   "execution_count": 1,
   "metadata": {},
   "outputs": [
    {
     "name": "stdout",
     "output_type": "stream",
     "text": [
      "Requirement already up-to-date: jupyter in /home/ec2-user/anaconda3/envs/python3/lib/python3.6/site-packages (1.0.0)\n",
      "Requirement not upgraded as not directly required: notebook in /home/ec2-user/anaconda3/envs/python3/lib/python3.6/site-packages (from jupyter) (5.5.0)\n",
      "Requirement not upgraded as not directly required: qtconsole in /home/ec2-user/anaconda3/envs/python3/lib/python3.6/site-packages (from jupyter) (4.3.1)\n",
      "Requirement not upgraded as not directly required: jupyter-console in /home/ec2-user/anaconda3/envs/python3/lib/python3.6/site-packages (from jupyter) (5.2.0)\n",
      "Requirement not upgraded as not directly required: nbconvert in /home/ec2-user/anaconda3/envs/python3/lib/python3.6/site-packages (from jupyter) (5.4.1)\n",
      "Requirement not upgraded as not directly required: ipykernel in /home/ec2-user/anaconda3/envs/python3/lib/python3.6/site-packages (from jupyter) (4.8.2)\n",
      "Requirement not upgraded as not directly required: ipywidgets in /home/ec2-user/anaconda3/envs/python3/lib/python3.6/site-packages (from jupyter) (7.4.0)\n",
      "Requirement not upgraded as not directly required: jinja2 in /home/ec2-user/anaconda3/envs/python3/lib/python3.6/site-packages (from notebook->jupyter) (2.10)\n",
      "Requirement not upgraded as not directly required: jupyter-core>=4.4.0 in /home/ec2-user/anaconda3/envs/python3/lib/python3.6/site-packages (from notebook->jupyter) (4.4.0)\n",
      "Requirement not upgraded as not directly required: nbformat in /home/ec2-user/anaconda3/envs/python3/lib/python3.6/site-packages (from notebook->jupyter) (4.4.0)\n",
      "Requirement not upgraded as not directly required: terminado>=0.8.1 in /home/ec2-user/anaconda3/envs/python3/lib/python3.6/site-packages (from notebook->jupyter) (0.8.1)\n",
      "Requirement not upgraded as not directly required: Send2Trash in /home/ec2-user/anaconda3/envs/python3/lib/python3.6/site-packages (from notebook->jupyter) (1.5.0)\n",
      "Requirement not upgraded as not directly required: tornado>=4 in /home/ec2-user/anaconda3/envs/python3/lib/python3.6/site-packages (from notebook->jupyter) (5.0.2)\n",
      "Requirement not upgraded as not directly required: traitlets>=4.2.1 in /home/ec2-user/anaconda3/envs/python3/lib/python3.6/site-packages (from notebook->jupyter) (4.3.2)\n",
      "Requirement not upgraded as not directly required: ipython-genutils in /home/ec2-user/anaconda3/envs/python3/lib/python3.6/site-packages (from notebook->jupyter) (0.2.0)\n",
      "Requirement not upgraded as not directly required: pyzmq>=17 in /home/ec2-user/anaconda3/envs/python3/lib/python3.6/site-packages (from notebook->jupyter) (17.0.0)\n",
      "Requirement not upgraded as not directly required: jupyter-client>=5.2.0 in /home/ec2-user/anaconda3/envs/python3/lib/python3.6/site-packages (from notebook->jupyter) (5.2.3)\n",
      "Requirement not upgraded as not directly required: ipython in /home/ec2-user/anaconda3/envs/python3/lib/python3.6/site-packages (from jupyter-console->jupyter) (6.4.0)\n",
      "Requirement not upgraded as not directly required: prompt_toolkit<2.0.0,>=1.0.0 in /home/ec2-user/anaconda3/envs/python3/lib/python3.6/site-packages (from jupyter-console->jupyter) (1.0.15)\n",
      "Requirement not upgraded as not directly required: pygments in /home/ec2-user/anaconda3/envs/python3/lib/python3.6/site-packages (from jupyter-console->jupyter) (2.2.0)\n",
      "Requirement not upgraded as not directly required: mistune>=0.8.1 in /home/ec2-user/anaconda3/envs/python3/lib/python3.6/site-packages (from nbconvert->jupyter) (0.8.3)\n",
      "Requirement not upgraded as not directly required: entrypoints>=0.2.2 in /home/ec2-user/anaconda3/envs/python3/lib/python3.6/site-packages (from nbconvert->jupyter) (0.2.3)\n",
      "Requirement not upgraded as not directly required: bleach in /home/ec2-user/anaconda3/envs/python3/lib/python3.6/site-packages (from nbconvert->jupyter) (2.1.3)\n",
      "Requirement not upgraded as not directly required: pandocfilters>=1.4.1 in /home/ec2-user/anaconda3/envs/python3/lib/python3.6/site-packages (from nbconvert->jupyter) (1.4.2)\n",
      "Requirement not upgraded as not directly required: testpath in /home/ec2-user/anaconda3/envs/python3/lib/python3.6/site-packages (from nbconvert->jupyter) (0.3.1)\n",
      "Requirement not upgraded as not directly required: defusedxml in /home/ec2-user/anaconda3/envs/python3/lib/python3.6/site-packages (from nbconvert->jupyter) (0.6.0)\n",
      "Requirement not upgraded as not directly required: widgetsnbextension~=3.4.0 in /home/ec2-user/anaconda3/envs/python3/lib/python3.6/site-packages (from ipywidgets->jupyter) (3.4.2)\n",
      "Requirement not upgraded as not directly required: MarkupSafe>=0.23 in /home/ec2-user/anaconda3/envs/python3/lib/python3.6/site-packages (from jinja2->notebook->jupyter) (1.0)\n",
      "Requirement not upgraded as not directly required: jsonschema!=2.5.0,>=2.4 in /home/ec2-user/anaconda3/envs/python3/lib/python3.6/site-packages (from nbformat->notebook->jupyter) (2.6.0)\n",
      "Requirement not upgraded as not directly required: six in /home/ec2-user/anaconda3/envs/python3/lib/python3.6/site-packages (from traitlets>=4.2.1->notebook->jupyter) (1.11.0)\n",
      "Requirement not upgraded as not directly required: decorator in /home/ec2-user/anaconda3/envs/python3/lib/python3.6/site-packages (from traitlets>=4.2.1->notebook->jupyter) (4.3.0)\n",
      "Requirement not upgraded as not directly required: python-dateutil>=2.1 in /home/ec2-user/anaconda3/envs/python3/lib/python3.6/site-packages (from jupyter-client>=5.2.0->notebook->jupyter) (2.7.3)\n",
      "Requirement not upgraded as not directly required: setuptools>=18.5 in /home/ec2-user/anaconda3/envs/python3/lib/python3.6/site-packages (from ipython->jupyter-console->jupyter) (39.1.0)\n",
      "Requirement not upgraded as not directly required: backcall in /home/ec2-user/anaconda3/envs/python3/lib/python3.6/site-packages (from ipython->jupyter-console->jupyter) (0.1.0)\n",
      "Requirement not upgraded as not directly required: pickleshare in /home/ec2-user/anaconda3/envs/python3/lib/python3.6/site-packages (from ipython->jupyter-console->jupyter) (0.7.4)\n",
      "Requirement not upgraded as not directly required: simplegeneric>0.8 in /home/ec2-user/anaconda3/envs/python3/lib/python3.6/site-packages (from ipython->jupyter-console->jupyter) (0.8.1)\n",
      "Requirement not upgraded as not directly required: jedi>=0.10 in /home/ec2-user/anaconda3/envs/python3/lib/python3.6/site-packages (from ipython->jupyter-console->jupyter) (0.12.0)\n",
      "Requirement not upgraded as not directly required: pexpect; sys_platform != \"win32\" in /home/ec2-user/anaconda3/envs/python3/lib/python3.6/site-packages (from ipython->jupyter-console->jupyter) (4.5.0)\n",
      "Requirement not upgraded as not directly required: wcwidth in /home/ec2-user/anaconda3/envs/python3/lib/python3.6/site-packages (from prompt_toolkit<2.0.0,>=1.0.0->jupyter-console->jupyter) (0.1.7)\n",
      "Requirement not upgraded as not directly required: html5lib!=1.0b1,!=1.0b2,!=1.0b3,!=1.0b4,!=1.0b5,!=1.0b6,!=1.0b7,!=1.0b8,>=0.99999999pre in /home/ec2-user/anaconda3/envs/python3/lib/python3.6/site-packages (from bleach->nbconvert->jupyter) (1.0.1)\n",
      "Requirement not upgraded as not directly required: parso>=0.2.0 in /home/ec2-user/anaconda3/envs/python3/lib/python3.6/site-packages (from jedi>=0.10->ipython->jupyter-console->jupyter) (0.2.0)\n",
      "Requirement not upgraded as not directly required: ptyprocess>=0.5 in /home/ec2-user/anaconda3/envs/python3/lib/python3.6/site-packages (from pexpect; sys_platform != \"win32\"->ipython->jupyter-console->jupyter) (0.5.2)\n",
      "Requirement not upgraded as not directly required: webencodings in /home/ec2-user/anaconda3/envs/python3/lib/python3.6/site-packages (from html5lib!=1.0b1,!=1.0b2,!=1.0b3,!=1.0b4,!=1.0b5,!=1.0b6,!=1.0b7,!=1.0b8,>=0.99999999pre->bleach->nbconvert->jupyter) (0.5.1)\n",
      "\u001b[33mYou are using pip version 10.0.1, however version 20.1b1 is available.\n",
      "You should consider upgrading via the 'pip install --upgrade pip' command.\u001b[0m\n"
     ]
    }
   ],
   "source": [
    "!pip install -U jupyter"
   ]
  },
  {
   "cell_type": "code",
   "execution_count": 2,
   "metadata": {},
   "outputs": [
    {
     "name": "stdout",
     "output_type": "stream",
     "text": [
      "Requirement already satisfied: sparkmagic in /home/ec2-user/anaconda3/envs/python3/lib/python3.6/site-packages (0.12.5)\n",
      "Requirement already satisfied: requests in /home/ec2-user/anaconda3/envs/python3/lib/python3.6/site-packages (from sparkmagic) (2.20.0)\n",
      "Requirement already satisfied: nose in /home/ec2-user/anaconda3/envs/python3/lib/python3.6/site-packages (from sparkmagic) (1.3.7)\n",
      "Requirement already satisfied: tornado>=4 in /home/ec2-user/anaconda3/envs/python3/lib/python3.6/site-packages (from sparkmagic) (5.0.2)\n",
      "Requirement already satisfied: ipywidgets<8.0,>5.0.0 in /home/ec2-user/anaconda3/envs/python3/lib/python3.6/site-packages (from sparkmagic) (7.4.0)\n",
      "Requirement already satisfied: mock in /home/ec2-user/anaconda3/envs/python3/lib/python3.6/site-packages (from sparkmagic) (4.0.1)\n",
      "Requirement already satisfied: numpy in /home/ec2-user/anaconda3/envs/python3/lib/python3.6/site-packages (from sparkmagic) (1.14.3)\n",
      "Requirement already satisfied: ipython<7,>=4.0.2 in /home/ec2-user/anaconda3/envs/python3/lib/python3.6/site-packages (from sparkmagic) (6.4.0)\n",
      "Requirement already satisfied: ipykernel<5,>=4.2.2 in /home/ec2-user/anaconda3/envs/python3/lib/python3.6/site-packages (from sparkmagic) (4.8.2)\n",
      "Requirement already satisfied: requests-kerberos>=0.8.0 in /home/ec2-user/anaconda3/envs/python3/lib/python3.6/site-packages (from sparkmagic) (0.12.0)\n",
      "Requirement already satisfied: hdijupyterutils>=0.6 in /home/ec2-user/anaconda3/envs/python3/lib/python3.6/site-packages (from sparkmagic) (0.15.0)\n",
      "Requirement already satisfied: notebook<6.0,>=4.2 in /home/ec2-user/anaconda3/envs/python3/lib/python3.6/site-packages (from sparkmagic) (5.5.0)\n",
      "Requirement already satisfied: pandas>=0.17.1 in /home/ec2-user/anaconda3/envs/python3/lib/python3.6/site-packages (from sparkmagic) (0.24.2)\n",
      "Requirement already satisfied: autovizwidget>=0.6 in /home/ec2-user/anaconda3/envs/python3/lib/python3.6/site-packages (from sparkmagic) (0.15.0)\n",
      "Requirement already satisfied: certifi>=2017.4.17 in /home/ec2-user/anaconda3/envs/python3/lib/python3.6/site-packages (from requests->sparkmagic) (2019.11.28)\n",
      "Requirement already satisfied: chardet<3.1.0,>=3.0.2 in /home/ec2-user/anaconda3/envs/python3/lib/python3.6/site-packages (from requests->sparkmagic) (3.0.4)\n",
      "Requirement already satisfied: urllib3<1.25,>=1.21.1 in /home/ec2-user/anaconda3/envs/python3/lib/python3.6/site-packages (from requests->sparkmagic) (1.23)\n",
      "Requirement already satisfied: idna<2.8,>=2.5 in /home/ec2-user/anaconda3/envs/python3/lib/python3.6/site-packages (from requests->sparkmagic) (2.6)\n",
      "Requirement already satisfied: widgetsnbextension~=3.4.0 in /home/ec2-user/anaconda3/envs/python3/lib/python3.6/site-packages (from ipywidgets<8.0,>5.0.0->sparkmagic) (3.4.2)\n",
      "Requirement already satisfied: traitlets>=4.3.1 in /home/ec2-user/anaconda3/envs/python3/lib/python3.6/site-packages (from ipywidgets<8.0,>5.0.0->sparkmagic) (4.3.2)\n",
      "Requirement already satisfied: nbformat>=4.2.0 in /home/ec2-user/anaconda3/envs/python3/lib/python3.6/site-packages (from ipywidgets<8.0,>5.0.0->sparkmagic) (4.4.0)\n",
      "Requirement already satisfied: pygments in /home/ec2-user/anaconda3/envs/python3/lib/python3.6/site-packages (from ipython<7,>=4.0.2->sparkmagic) (2.2.0)\n",
      "Requirement already satisfied: decorator in /home/ec2-user/anaconda3/envs/python3/lib/python3.6/site-packages (from ipython<7,>=4.0.2->sparkmagic) (4.3.0)\n",
      "Requirement already satisfied: simplegeneric>0.8 in /home/ec2-user/anaconda3/envs/python3/lib/python3.6/site-packages (from ipython<7,>=4.0.2->sparkmagic) (0.8.1)\n",
      "Requirement already satisfied: pexpect; sys_platform != \"win32\" in /home/ec2-user/anaconda3/envs/python3/lib/python3.6/site-packages (from ipython<7,>=4.0.2->sparkmagic) (4.5.0)\n",
      "Requirement already satisfied: prompt-toolkit<2.0.0,>=1.0.15 in /home/ec2-user/anaconda3/envs/python3/lib/python3.6/site-packages (from ipython<7,>=4.0.2->sparkmagic) (1.0.15)\n",
      "Requirement already satisfied: jedi>=0.10 in /home/ec2-user/anaconda3/envs/python3/lib/python3.6/site-packages (from ipython<7,>=4.0.2->sparkmagic) (0.12.0)\n",
      "Requirement already satisfied: pickleshare in /home/ec2-user/anaconda3/envs/python3/lib/python3.6/site-packages (from ipython<7,>=4.0.2->sparkmagic) (0.7.4)\n",
      "Requirement already satisfied: backcall in /home/ec2-user/anaconda3/envs/python3/lib/python3.6/site-packages (from ipython<7,>=4.0.2->sparkmagic) (0.1.0)\n",
      "Requirement already satisfied: setuptools>=18.5 in /home/ec2-user/anaconda3/envs/python3/lib/python3.6/site-packages (from ipython<7,>=4.0.2->sparkmagic) (39.1.0)\n",
      "Requirement already satisfied: jupyter_client in /home/ec2-user/anaconda3/envs/python3/lib/python3.6/site-packages (from ipykernel<5,>=4.2.2->sparkmagic) (5.2.3)\n",
      "Requirement already satisfied: cryptography>=1.3; python_version != \"3.3\" in /home/ec2-user/anaconda3/envs/python3/lib/python3.6/site-packages (from requests-kerberos>=0.8.0->sparkmagic) (2.9)\n",
      "Requirement already satisfied: pykerberos<2.0.0,>=1.1.8; sys_platform != \"win32\" in /home/ec2-user/anaconda3/envs/python3/lib/python3.6/site-packages (from requests-kerberos>=0.8.0->sparkmagic) (1.2.1)\n",
      "Requirement already satisfied: jupyter>=1 in /home/ec2-user/anaconda3/envs/python3/lib/python3.6/site-packages (from hdijupyterutils>=0.6->sparkmagic) (1.0.0)\n",
      "Requirement already satisfied: nbconvert in /home/ec2-user/anaconda3/envs/python3/lib/python3.6/site-packages (from notebook<6.0,>=4.2->sparkmagic) (5.4.1)\n",
      "Requirement already satisfied: jupyter-core>=4.4.0 in /home/ec2-user/anaconda3/envs/python3/lib/python3.6/site-packages (from notebook<6.0,>=4.2->sparkmagic) (4.4.0)\n",
      "Requirement already satisfied: Send2Trash in /home/ec2-user/anaconda3/envs/python3/lib/python3.6/site-packages (from notebook<6.0,>=4.2->sparkmagic) (1.5.0)\n",
      "Requirement already satisfied: terminado>=0.8.1 in /home/ec2-user/anaconda3/envs/python3/lib/python3.6/site-packages (from notebook<6.0,>=4.2->sparkmagic) (0.8.1)\n",
      "Requirement already satisfied: pyzmq>=17 in /home/ec2-user/anaconda3/envs/python3/lib/python3.6/site-packages (from notebook<6.0,>=4.2->sparkmagic) (17.0.0)\n",
      "Requirement already satisfied: jinja2 in /home/ec2-user/anaconda3/envs/python3/lib/python3.6/site-packages (from notebook<6.0,>=4.2->sparkmagic) (2.10)\n",
      "Requirement already satisfied: ipython-genutils in /home/ec2-user/anaconda3/envs/python3/lib/python3.6/site-packages (from notebook<6.0,>=4.2->sparkmagic) (0.2.0)\n",
      "Requirement already satisfied: python-dateutil>=2.5.0 in /home/ec2-user/anaconda3/envs/python3/lib/python3.6/site-packages (from pandas>=0.17.1->sparkmagic) (2.7.3)\n",
      "Requirement already satisfied: pytz>=2011k in /home/ec2-user/anaconda3/envs/python3/lib/python3.6/site-packages (from pandas>=0.17.1->sparkmagic) (2018.4)\n",
      "Requirement already satisfied: plotly>=3 in /home/ec2-user/anaconda3/envs/python3/lib/python3.6/site-packages (from autovizwidget>=0.6->sparkmagic) (4.5.2)\n",
      "Requirement already satisfied: six in /home/ec2-user/anaconda3/envs/python3/lib/python3.6/site-packages (from traitlets>=4.3.1->ipywidgets<8.0,>5.0.0->sparkmagic) (1.11.0)\n",
      "Requirement already satisfied: jsonschema!=2.5.0,>=2.4 in /home/ec2-user/anaconda3/envs/python3/lib/python3.6/site-packages (from nbformat>=4.2.0->ipywidgets<8.0,>5.0.0->sparkmagic) (2.6.0)\n",
      "Requirement already satisfied: ptyprocess>=0.5 in /home/ec2-user/anaconda3/envs/python3/lib/python3.6/site-packages (from pexpect; sys_platform != \"win32\"->ipython<7,>=4.0.2->sparkmagic) (0.5.2)\n",
      "Requirement already satisfied: wcwidth in /home/ec2-user/anaconda3/envs/python3/lib/python3.6/site-packages (from prompt-toolkit<2.0.0,>=1.0.15->ipython<7,>=4.0.2->sparkmagic) (0.1.7)\n",
      "Requirement already satisfied: parso>=0.2.0 in /home/ec2-user/anaconda3/envs/python3/lib/python3.6/site-packages (from jedi>=0.10->ipython<7,>=4.0.2->sparkmagic) (0.2.0)\n",
      "Requirement already satisfied: cffi!=1.11.3,>=1.8 in /home/ec2-user/anaconda3/envs/python3/lib/python3.6/site-packages (from cryptography>=1.3; python_version != \"3.3\"->requests-kerberos>=0.8.0->sparkmagic) (1.11.5)\n",
      "Requirement already satisfied: qtconsole in /home/ec2-user/anaconda3/envs/python3/lib/python3.6/site-packages (from jupyter>=1->hdijupyterutils>=0.6->sparkmagic) (4.3.1)\n",
      "Requirement already satisfied: jupyter-console in /home/ec2-user/anaconda3/envs/python3/lib/python3.6/site-packages (from jupyter>=1->hdijupyterutils>=0.6->sparkmagic) (5.2.0)\n",
      "Requirement already satisfied: mistune>=0.8.1 in /home/ec2-user/anaconda3/envs/python3/lib/python3.6/site-packages (from nbconvert->notebook<6.0,>=4.2->sparkmagic) (0.8.3)\n",
      "Requirement already satisfied: entrypoints>=0.2.2 in /home/ec2-user/anaconda3/envs/python3/lib/python3.6/site-packages (from nbconvert->notebook<6.0,>=4.2->sparkmagic) (0.2.3)\n",
      "Requirement already satisfied: bleach in /home/ec2-user/anaconda3/envs/python3/lib/python3.6/site-packages (from nbconvert->notebook<6.0,>=4.2->sparkmagic) (2.1.3)\n",
      "Requirement already satisfied: pandocfilters>=1.4.1 in /home/ec2-user/anaconda3/envs/python3/lib/python3.6/site-packages (from nbconvert->notebook<6.0,>=4.2->sparkmagic) (1.4.2)\n",
      "Requirement already satisfied: testpath in /home/ec2-user/anaconda3/envs/python3/lib/python3.6/site-packages (from nbconvert->notebook<6.0,>=4.2->sparkmagic) (0.3.1)\n",
      "Requirement already satisfied: defusedxml in /home/ec2-user/anaconda3/envs/python3/lib/python3.6/site-packages (from nbconvert->notebook<6.0,>=4.2->sparkmagic) (0.6.0)\n",
      "Requirement already satisfied: MarkupSafe>=0.23 in /home/ec2-user/anaconda3/envs/python3/lib/python3.6/site-packages (from jinja2->notebook<6.0,>=4.2->sparkmagic) (1.0)\n",
      "Requirement already satisfied: retrying>=1.3.3 in /home/ec2-user/anaconda3/envs/python3/lib/python3.6/site-packages (from plotly>=3->autovizwidget>=0.6->sparkmagic) (1.3.3)\n",
      "Requirement already satisfied: pycparser in /home/ec2-user/anaconda3/envs/python3/lib/python3.6/site-packages (from cffi!=1.11.3,>=1.8->cryptography>=1.3; python_version != \"3.3\"->requests-kerberos>=0.8.0->sparkmagic) (2.18)\n",
      "Requirement already satisfied: html5lib!=1.0b1,!=1.0b2,!=1.0b3,!=1.0b4,!=1.0b5,!=1.0b6,!=1.0b7,!=1.0b8,>=0.99999999pre in /home/ec2-user/anaconda3/envs/python3/lib/python3.6/site-packages (from bleach->nbconvert->notebook<6.0,>=4.2->sparkmagic) (1.0.1)\n",
      "Requirement already satisfied: webencodings in /home/ec2-user/anaconda3/envs/python3/lib/python3.6/site-packages (from html5lib!=1.0b1,!=1.0b2,!=1.0b3,!=1.0b4,!=1.0b5,!=1.0b6,!=1.0b7,!=1.0b8,>=0.99999999pre->bleach->nbconvert->notebook<6.0,>=4.2->sparkmagic) (0.5.1)\n",
      "\u001b[33mYou are using pip version 10.0.1, however version 20.1b1 is available.\n",
      "You should consider upgrading via the 'pip install --upgrade pip' command.\u001b[0m\n"
     ]
    }
   ],
   "source": [
    "!pip install sparkmagic"
   ]
  },
  {
   "cell_type": "code",
   "execution_count": 3,
   "metadata": {},
   "outputs": [
    {
     "name": "stdout",
     "output_type": "stream",
     "text": [
      "Collecting jupyterthemes\n",
      "\u001b[?25l  Downloading https://files.pythonhosted.org/packages/8a/08/9dee6dfd7f2aad6c30282d55c8f495b4dc1e4747b4e2bdbeb80572ddf312/jupyterthemes-0.20.0-py2.py3-none-any.whl (7.0MB)\n",
      "\u001b[K    100% |████████████████████████████████| 7.0MB 5.5MB/s eta 0:00:01\n",
      "\u001b[?25hCollecting lesscpy>=0.11.2 (from jupyterthemes)\n",
      "\u001b[?25l  Downloading https://files.pythonhosted.org/packages/f8/d2/665cda6614e3556eaeb7553a3a2963624c2e3bc9636777a1bb654b87b027/lesscpy-0.14.0-py2.py3-none-any.whl (46kB)\n",
      "\u001b[K    100% |████████████████████████████████| 51kB 24.2MB/s ta 0:00:01\n",
      "\u001b[?25hRequirement already satisfied: jupyter-core in /home/ec2-user/anaconda3/envs/python3/lib/python3.6/site-packages (from jupyterthemes) (4.4.0)\n",
      "Requirement already satisfied: ipython>=5.4.1 in /home/ec2-user/anaconda3/envs/python3/lib/python3.6/site-packages (from jupyterthemes) (6.4.0)\n",
      "Requirement already satisfied: matplotlib>=1.4.3 in /home/ec2-user/anaconda3/envs/python3/lib/python3.6/site-packages (from jupyterthemes) (3.0.3)\n",
      "Collecting notebook>=5.6.0 (from jupyterthemes)\n",
      "\u001b[?25l  Downloading https://files.pythonhosted.org/packages/b1/f1/0a67f09ef53a342403ffa66646ee39273e0ac79ffa5de5dbe2f3e28b5bdf/notebook-6.0.3-py3-none-any.whl (9.7MB)\n",
      "\u001b[K    100% |████████████████████████████████| 9.7MB 5.0MB/s eta 0:00:01    48% |███████████████▋                | 4.7MB 59.9MB/s eta 0:00:01\n",
      "\u001b[?25hRequirement already satisfied: six in /home/ec2-user/anaconda3/envs/python3/lib/python3.6/site-packages (from lesscpy>=0.11.2->jupyterthemes) (1.11.0)\n",
      "Requirement already satisfied: ply in /home/ec2-user/anaconda3/envs/python3/lib/python3.6/site-packages (from lesscpy>=0.11.2->jupyterthemes) (3.11)\n",
      "Requirement already satisfied: traitlets in /home/ec2-user/anaconda3/envs/python3/lib/python3.6/site-packages (from jupyter-core->jupyterthemes) (4.3.2)\n",
      "Requirement already satisfied: simplegeneric>0.8 in /home/ec2-user/anaconda3/envs/python3/lib/python3.6/site-packages (from ipython>=5.4.1->jupyterthemes) (0.8.1)\n",
      "Requirement already satisfied: pygments in /home/ec2-user/anaconda3/envs/python3/lib/python3.6/site-packages (from ipython>=5.4.1->jupyterthemes) (2.2.0)\n",
      "Requirement already satisfied: pexpect; sys_platform != \"win32\" in /home/ec2-user/anaconda3/envs/python3/lib/python3.6/site-packages (from ipython>=5.4.1->jupyterthemes) (4.5.0)\n",
      "Requirement already satisfied: pickleshare in /home/ec2-user/anaconda3/envs/python3/lib/python3.6/site-packages (from ipython>=5.4.1->jupyterthemes) (0.7.4)\n",
      "Requirement already satisfied: jedi>=0.10 in /home/ec2-user/anaconda3/envs/python3/lib/python3.6/site-packages (from ipython>=5.4.1->jupyterthemes) (0.12.0)\n",
      "Requirement already satisfied: setuptools>=18.5 in /home/ec2-user/anaconda3/envs/python3/lib/python3.6/site-packages (from ipython>=5.4.1->jupyterthemes) (39.1.0)\n",
      "Requirement already satisfied: backcall in /home/ec2-user/anaconda3/envs/python3/lib/python3.6/site-packages (from ipython>=5.4.1->jupyterthemes) (0.1.0)\n",
      "Requirement already satisfied: prompt-toolkit<2.0.0,>=1.0.15 in /home/ec2-user/anaconda3/envs/python3/lib/python3.6/site-packages (from ipython>=5.4.1->jupyterthemes) (1.0.15)\n",
      "Requirement already satisfied: decorator in /home/ec2-user/anaconda3/envs/python3/lib/python3.6/site-packages (from ipython>=5.4.1->jupyterthemes) (4.3.0)\n",
      "Requirement already satisfied: numpy>=1.10.0 in /home/ec2-user/anaconda3/envs/python3/lib/python3.6/site-packages (from matplotlib>=1.4.3->jupyterthemes) (1.14.3)\n",
      "Requirement already satisfied: cycler>=0.10 in /home/ec2-user/anaconda3/envs/python3/lib/python3.6/site-packages (from matplotlib>=1.4.3->jupyterthemes) (0.10.0)\n",
      "Requirement already satisfied: pyparsing!=2.0.4,!=2.1.2,!=2.1.6,>=2.0.1 in /home/ec2-user/anaconda3/envs/python3/lib/python3.6/site-packages (from matplotlib>=1.4.3->jupyterthemes) (2.2.0)\n",
      "Requirement already satisfied: python-dateutil>=2.1 in /home/ec2-user/anaconda3/envs/python3/lib/python3.6/site-packages (from matplotlib>=1.4.3->jupyterthemes) (2.7.3)\n",
      "Requirement already satisfied: kiwisolver>=1.0.1 in /home/ec2-user/anaconda3/envs/python3/lib/python3.6/site-packages (from matplotlib>=1.4.3->jupyterthemes) (1.0.1)\n",
      "Requirement already satisfied: nbformat in /home/ec2-user/anaconda3/envs/python3/lib/python3.6/site-packages (from notebook>=5.6.0->jupyterthemes) (4.4.0)\n",
      "Requirement already satisfied: ipykernel in /home/ec2-user/anaconda3/envs/python3/lib/python3.6/site-packages (from notebook>=5.6.0->jupyterthemes) (4.8.2)\n",
      "Requirement already satisfied: Send2Trash in /home/ec2-user/anaconda3/envs/python3/lib/python3.6/site-packages (from notebook>=5.6.0->jupyterthemes) (1.5.0)\n",
      "Requirement already satisfied: ipython-genutils in /home/ec2-user/anaconda3/envs/python3/lib/python3.6/site-packages (from notebook>=5.6.0->jupyterthemes) (0.2.0)\n",
      "Requirement already satisfied: tornado>=5.0 in /home/ec2-user/anaconda3/envs/python3/lib/python3.6/site-packages (from notebook>=5.6.0->jupyterthemes) (5.0.2)\n",
      "Requirement already satisfied: pyzmq>=17 in /home/ec2-user/anaconda3/envs/python3/lib/python3.6/site-packages (from notebook>=5.6.0->jupyterthemes) (17.0.0)\n",
      "Requirement already satisfied: jinja2 in /home/ec2-user/anaconda3/envs/python3/lib/python3.6/site-packages (from notebook>=5.6.0->jupyterthemes) (2.10)\n",
      "Requirement already satisfied: terminado>=0.8.1 in /home/ec2-user/anaconda3/envs/python3/lib/python3.6/site-packages (from notebook>=5.6.0->jupyterthemes) (0.8.1)\n",
      "Collecting jupyter-client>=5.3.4 (from notebook>=5.6.0->jupyterthemes)\n",
      "\u001b[?25l  Downloading https://files.pythonhosted.org/packages/34/0b/2ebddf775f558158ca8df23b35445fb15d4b1558a9e4a03bc7e75b13476e/jupyter_client-6.1.3-py3-none-any.whl (106kB)\n",
      "\u001b[K    100% |████████████████████████████████| 112kB 43.4MB/s ta 0:00:01\n",
      "\u001b[?25hRequirement already satisfied: nbconvert in /home/ec2-user/anaconda3/envs/python3/lib/python3.6/site-packages (from notebook>=5.6.0->jupyterthemes) (5.4.1)\n",
      "Collecting prometheus-client (from notebook>=5.6.0->jupyterthemes)\n",
      "  Downloading https://files.pythonhosted.org/packages/b3/23/41a5a24b502d35a4ad50a5bb7202a5e1d9a0364d0c12f56db3dbf7aca76d/prometheus_client-0.7.1.tar.gz\n",
      "Requirement already satisfied: ptyprocess>=0.5 in /home/ec2-user/anaconda3/envs/python3/lib/python3.6/site-packages (from pexpect; sys_platform != \"win32\"->ipython>=5.4.1->jupyterthemes) (0.5.2)\n",
      "Requirement already satisfied: parso>=0.2.0 in /home/ec2-user/anaconda3/envs/python3/lib/python3.6/site-packages (from jedi>=0.10->ipython>=5.4.1->jupyterthemes) (0.2.0)\n",
      "Requirement already satisfied: wcwidth in /home/ec2-user/anaconda3/envs/python3/lib/python3.6/site-packages (from prompt-toolkit<2.0.0,>=1.0.15->ipython>=5.4.1->jupyterthemes) (0.1.7)\n",
      "Requirement already satisfied: jsonschema!=2.5.0,>=2.4 in /home/ec2-user/anaconda3/envs/python3/lib/python3.6/site-packages (from nbformat->notebook>=5.6.0->jupyterthemes) (2.6.0)\n",
      "Requirement already satisfied: MarkupSafe>=0.23 in /home/ec2-user/anaconda3/envs/python3/lib/python3.6/site-packages (from jinja2->notebook>=5.6.0->jupyterthemes) (1.0)\n",
      "Requirement already satisfied: mistune>=0.8.1 in /home/ec2-user/anaconda3/envs/python3/lib/python3.6/site-packages (from nbconvert->notebook>=5.6.0->jupyterthemes) (0.8.3)\n",
      "Requirement already satisfied: entrypoints>=0.2.2 in /home/ec2-user/anaconda3/envs/python3/lib/python3.6/site-packages (from nbconvert->notebook>=5.6.0->jupyterthemes) (0.2.3)\n",
      "Requirement already satisfied: bleach in /home/ec2-user/anaconda3/envs/python3/lib/python3.6/site-packages (from nbconvert->notebook>=5.6.0->jupyterthemes) (2.1.3)\n",
      "Requirement already satisfied: pandocfilters>=1.4.1 in /home/ec2-user/anaconda3/envs/python3/lib/python3.6/site-packages (from nbconvert->notebook>=5.6.0->jupyterthemes) (1.4.2)\n",
      "Requirement already satisfied: testpath in /home/ec2-user/anaconda3/envs/python3/lib/python3.6/site-packages (from nbconvert->notebook>=5.6.0->jupyterthemes) (0.3.1)\n",
      "Requirement already satisfied: defusedxml in /home/ec2-user/anaconda3/envs/python3/lib/python3.6/site-packages (from nbconvert->notebook>=5.6.0->jupyterthemes) (0.6.0)\n",
      "Requirement already satisfied: html5lib!=1.0b1,!=1.0b2,!=1.0b3,!=1.0b4,!=1.0b5,!=1.0b6,!=1.0b7,!=1.0b8,>=0.99999999pre in /home/ec2-user/anaconda3/envs/python3/lib/python3.6/site-packages (from bleach->nbconvert->notebook>=5.6.0->jupyterthemes) (1.0.1)\n",
      "Requirement already satisfied: webencodings in /home/ec2-user/anaconda3/envs/python3/lib/python3.6/site-packages (from html5lib!=1.0b1,!=1.0b2,!=1.0b3,!=1.0b4,!=1.0b5,!=1.0b6,!=1.0b7,!=1.0b8,>=0.99999999pre->bleach->nbconvert->notebook>=5.6.0->jupyterthemes) (0.5.1)\n",
      "Building wheels for collected packages: prometheus-client\n",
      "  Running setup.py bdist_wheel for prometheus-client ... \u001b[?25ldone\n",
      "\u001b[?25h  Stored in directory: /home/ec2-user/.cache/pip/wheels/1c/54/34/fd47cd9b308826cc4292b54449c1899a30251ef3b506bc91ea\n",
      "Successfully built prometheus-client\n",
      "\u001b[31msparkmagic 0.12.5 has requirement notebook<6.0,>=4.2, but you'll have notebook 6.0.3 which is incompatible.\u001b[0m\n",
      "\u001b[31mnotebook 6.0.3 has requirement jupyter-core>=4.6.1, but you'll have jupyter-core 4.4.0 which is incompatible.\u001b[0m\n",
      "\u001b[31mjupyter-client 6.1.3 has requirement jupyter-core>=4.6.0, but you'll have jupyter-core 4.4.0 which is incompatible.\u001b[0m\n",
      "Installing collected packages: lesscpy, jupyter-client, prometheus-client, notebook, jupyterthemes\n",
      "  Found existing installation: jupyter-client 5.2.3\n",
      "    Uninstalling jupyter-client-5.2.3:\n",
      "      Successfully uninstalled jupyter-client-5.2.3\n",
      "  Found existing installation: notebook 5.5.0\n",
      "    Uninstalling notebook-5.5.0:\n",
      "      Successfully uninstalled notebook-5.5.0\n",
      "Successfully installed jupyter-client-6.1.3 jupyterthemes-0.20.0 lesscpy-0.14.0 notebook-6.0.3 prometheus-client-0.7.1\n",
      "\u001b[33mYou are using pip version 10.0.1, however version 20.1b1 is available.\n",
      "You should consider upgrading via the 'pip install --upgrade pip' command.\u001b[0m\n"
     ]
    }
   ],
   "source": [
    "!pip install jupyterthemes"
   ]
  },
  {
   "cell_type": "markdown",
   "metadata": {},
   "source": [
    "## Theme\n",
    "\n",
    "Now let's pick a theme. To see the full list, type jt -l in the command line. You'll see plenty of themes, and tofind out  which one works best for you, take a look and mess around! We decided on solarizedl. It has a creme background with red lettering. "
   ]
  },
  {
   "cell_type": "code",
   "execution_count": 4,
   "metadata": {},
   "outputs": [
    {
     "name": "stdout",
     "output_type": "stream",
     "text": [
      "Available Themes: \n",
      "   chesterish\n",
      "   grade3\n",
      "   gruvboxd\n",
      "   gruvboxl\n",
      "   monokai\n",
      "   oceans16\n",
      "   onedork\n",
      "   solarizedd\n",
      "   solarizedl\n"
     ]
    }
   ],
   "source": [
    "!jt -l"
   ]
  },
  {
   "cell_type": "markdown",
   "metadata": {},
   "source": [
    "## Font and Size\n",
    "\n",
    "Jupyterthemes allow for so much more than just changing the themes. It can also extend to fonts, font size, text, and more. Below you can see their whole command line options. For this notebook, we'll be experimenting with fonts for the different cells and their sizes. In this notebook, we'll be using the solarizedl theme, Source Code Pro for the code cell font, Source Sans for the notebook font, a notebook font of size 11, a text cell font of Crimson Serif, the text cell font size to 11, and the Output Area fontsize to 8.  "
   ]
  },
  {
   "cell_type": "code",
   "execution_count": 5,
   "metadata": {},
   "outputs": [],
   "source": [
    "!jt -t solarizedl -f sourcemed -nf sourcesans -nfs 11 -tf crimsonserif -tfs 11 -ofs 8"
   ]
  },
  {
   "cell_type": "markdown",
   "metadata": {},
   "source": [
    "After inputting your preferences, you've made the biggest changes to the aesthetics! The reader will have plenty of visual interest, but what about readibility? Functionality? The last step we'll do is add notebook extensions to increase functionality on both ends--for the reader and creators. "
   ]
  },
  {
   "cell_type": "markdown",
   "metadata": {},
   "source": [
    "## Extensions\n",
    "\n",
    "Jupyter notebooks are great a great tool to use for a variety of reasons, especially considering it was *made* to have be an extendable environment. But what are extensions? They're simple tools usually coded in Javascript which can be added on to notebooks to increase their functionality. Some of the extensions that we'll be using include spellchecking and table of contents. First, we need to install and enable the extension manager, since its default is turned off. "
   ]
  },
  {
   "cell_type": "code",
   "execution_count": 6,
   "metadata": {},
   "outputs": [
    {
     "name": "stdout",
     "output_type": "stream",
     "text": [
      "Collecting https://github.com/ipython-contrib/jupyter_contrib_nbextensions/tarball/master\n",
      "  Downloading https://github.com/ipython-contrib/jupyter_contrib_nbextensions/tarball/master\n",
      "\u001b[K     | 29.3MB 17.3MB/s\n",
      "Requirement already satisfied: ipython_genutils in /home/ec2-user/anaconda3/envs/python3/lib/python3.6/site-packages (from jupyter-contrib-nbextensions==0.5.1) (0.2.0)\n",
      "Collecting jupyter_contrib_core>=0.3.3 (from jupyter-contrib-nbextensions==0.5.1)\n",
      "  Using cached https://files.pythonhosted.org/packages/e6/8f/04a752a8b66a66e7092c035e5d87d2502ac7ec07f9fb6059059b6c0dc272/jupyter_contrib_core-0.3.3-py2.py3-none-any.whl\n",
      "Requirement already satisfied: jupyter_core in /home/ec2-user/anaconda3/envs/python3/lib/python3.6/site-packages (from jupyter-contrib-nbextensions==0.5.1) (4.4.0)\n",
      "Collecting jupyter_highlight_selected_word>=0.1.1 (from jupyter-contrib-nbextensions==0.5.1)\n",
      "  Using cached https://files.pythonhosted.org/packages/50/d7/19ab7cfd60bf268d2abbacc52d4295a40f52d74dfc0d938e4761ee5e598b/jupyter_highlight_selected_word-0.2.0-py2.py3-none-any.whl\n",
      "Collecting jupyter_latex_envs>=1.3.8 (from jupyter-contrib-nbextensions==0.5.1)\n",
      "  Using cached https://files.pythonhosted.org/packages/0e/15/55805de080d5542f76920364635e96e64d3b37f678befdfe3b16aa154205/jupyter_latex_envs-1.4.6.tar.gz\n",
      "Collecting jupyter_nbextensions_configurator>=0.4.0 (from jupyter-contrib-nbextensions==0.5.1)\n",
      "  Using cached https://files.pythonhosted.org/packages/51/a3/d72d5f2dc10c5ccf5a6f4c79f636bf071a5ce462dedd07af2f70384db6cb/jupyter_nbextensions_configurator-0.4.1.tar.gz\n",
      "Requirement already satisfied: nbconvert>=4.2 in /home/ec2-user/anaconda3/envs/python3/lib/python3.6/site-packages (from jupyter-contrib-nbextensions==0.5.1) (5.4.1)\n",
      "Requirement already satisfied: notebook>=4.0 in /home/ec2-user/anaconda3/envs/python3/lib/python3.6/site-packages (from jupyter-contrib-nbextensions==0.5.1) (6.0.3)\n",
      "Requirement already satisfied: pyyaml in /home/ec2-user/anaconda3/envs/python3/lib/python3.6/site-packages (from jupyter-contrib-nbextensions==0.5.1) (5.3.1)\n",
      "Requirement already satisfied: tornado in /home/ec2-user/anaconda3/envs/python3/lib/python3.6/site-packages (from jupyter-contrib-nbextensions==0.5.1) (5.0.2)\n",
      "Requirement already satisfied: traitlets>=4.1 in /home/ec2-user/anaconda3/envs/python3/lib/python3.6/site-packages (from jupyter-contrib-nbextensions==0.5.1) (4.3.2)\n",
      "Requirement already satisfied: lxml in /home/ec2-user/anaconda3/envs/python3/lib/python3.6/site-packages (from jupyter-contrib-nbextensions==0.5.1) (4.2.1)\n",
      "Requirement already satisfied: setuptools in /home/ec2-user/anaconda3/envs/python3/lib/python3.6/site-packages (from jupyter_contrib_core>=0.3.3->jupyter-contrib-nbextensions==0.5.1) (39.1.0)\n",
      "Requirement already satisfied: ipython in /home/ec2-user/anaconda3/envs/python3/lib/python3.6/site-packages (from jupyter_latex_envs>=1.3.8->jupyter-contrib-nbextensions==0.5.1) (6.4.0)\n",
      "Requirement already satisfied: mistune>=0.8.1 in /home/ec2-user/anaconda3/envs/python3/lib/python3.6/site-packages (from nbconvert>=4.2->jupyter-contrib-nbextensions==0.5.1) (0.8.3)\n",
      "Requirement already satisfied: jinja2 in /home/ec2-user/anaconda3/envs/python3/lib/python3.6/site-packages (from nbconvert>=4.2->jupyter-contrib-nbextensions==0.5.1) (2.10)\n",
      "Requirement already satisfied: pygments in /home/ec2-user/anaconda3/envs/python3/lib/python3.6/site-packages (from nbconvert>=4.2->jupyter-contrib-nbextensions==0.5.1) (2.2.0)\n",
      "Requirement already satisfied: nbformat>=4.4 in /home/ec2-user/anaconda3/envs/python3/lib/python3.6/site-packages (from nbconvert>=4.2->jupyter-contrib-nbextensions==0.5.1) (4.4.0)\n",
      "Requirement already satisfied: entrypoints>=0.2.2 in /home/ec2-user/anaconda3/envs/python3/lib/python3.6/site-packages (from nbconvert>=4.2->jupyter-contrib-nbextensions==0.5.1) (0.2.3)\n",
      "Requirement already satisfied: bleach in /home/ec2-user/anaconda3/envs/python3/lib/python3.6/site-packages (from nbconvert>=4.2->jupyter-contrib-nbextensions==0.5.1) (2.1.3)\n",
      "Requirement already satisfied: pandocfilters>=1.4.1 in /home/ec2-user/anaconda3/envs/python3/lib/python3.6/site-packages (from nbconvert>=4.2->jupyter-contrib-nbextensions==0.5.1) (1.4.2)\n",
      "Requirement already satisfied: testpath in /home/ec2-user/anaconda3/envs/python3/lib/python3.6/site-packages (from nbconvert>=4.2->jupyter-contrib-nbextensions==0.5.1) (0.3.1)\n",
      "Requirement already satisfied: defusedxml in /home/ec2-user/anaconda3/envs/python3/lib/python3.6/site-packages (from nbconvert>=4.2->jupyter-contrib-nbextensions==0.5.1) (0.6.0)\n",
      "Requirement already satisfied: ipykernel in /home/ec2-user/anaconda3/envs/python3/lib/python3.6/site-packages (from notebook>=4.0->jupyter-contrib-nbextensions==0.5.1) (4.8.2)\n",
      "Requirement already satisfied: terminado>=0.8.1 in /home/ec2-user/anaconda3/envs/python3/lib/python3.6/site-packages (from notebook>=4.0->jupyter-contrib-nbextensions==0.5.1) (0.8.1)\n",
      "Requirement already satisfied: prometheus-client in /home/ec2-user/anaconda3/envs/python3/lib/python3.6/site-packages (from notebook>=4.0->jupyter-contrib-nbextensions==0.5.1) (0.7.1)\n",
      "Requirement already satisfied: Send2Trash in /home/ec2-user/anaconda3/envs/python3/lib/python3.6/site-packages (from notebook>=4.0->jupyter-contrib-nbextensions==0.5.1) (1.5.0)\n",
      "Requirement already satisfied: pyzmq>=17 in /home/ec2-user/anaconda3/envs/python3/lib/python3.6/site-packages (from notebook>=4.0->jupyter-contrib-nbextensions==0.5.1) (17.0.0)\n",
      "Requirement already satisfied: jupyter-client>=5.3.4 in /home/ec2-user/anaconda3/envs/python3/lib/python3.6/site-packages (from notebook>=4.0->jupyter-contrib-nbextensions==0.5.1) (6.1.3)\n",
      "Requirement already satisfied: six in /home/ec2-user/anaconda3/envs/python3/lib/python3.6/site-packages (from traitlets>=4.1->jupyter-contrib-nbextensions==0.5.1) (1.11.0)\n",
      "Requirement already satisfied: decorator in /home/ec2-user/anaconda3/envs/python3/lib/python3.6/site-packages (from traitlets>=4.1->jupyter-contrib-nbextensions==0.5.1) (4.3.0)\n",
      "Requirement already satisfied: pexpect; sys_platform != \"win32\" in /home/ec2-user/anaconda3/envs/python3/lib/python3.6/site-packages (from ipython->jupyter_latex_envs>=1.3.8->jupyter-contrib-nbextensions==0.5.1) (4.5.0)\n",
      "Requirement already satisfied: jedi>=0.10 in /home/ec2-user/anaconda3/envs/python3/lib/python3.6/site-packages (from ipython->jupyter_latex_envs>=1.3.8->jupyter-contrib-nbextensions==0.5.1) (0.12.0)\n",
      "Requirement already satisfied: prompt-toolkit<2.0.0,>=1.0.15 in /home/ec2-user/anaconda3/envs/python3/lib/python3.6/site-packages (from ipython->jupyter_latex_envs>=1.3.8->jupyter-contrib-nbextensions==0.5.1) (1.0.15)\n",
      "Requirement already satisfied: backcall in /home/ec2-user/anaconda3/envs/python3/lib/python3.6/site-packages (from ipython->jupyter_latex_envs>=1.3.8->jupyter-contrib-nbextensions==0.5.1) (0.1.0)\n",
      "Requirement already satisfied: simplegeneric>0.8 in /home/ec2-user/anaconda3/envs/python3/lib/python3.6/site-packages (from ipython->jupyter_latex_envs>=1.3.8->jupyter-contrib-nbextensions==0.5.1) (0.8.1)\n",
      "Requirement already satisfied: pickleshare in /home/ec2-user/anaconda3/envs/python3/lib/python3.6/site-packages (from ipython->jupyter_latex_envs>=1.3.8->jupyter-contrib-nbextensions==0.5.1) (0.7.4)\n",
      "Requirement already satisfied: MarkupSafe>=0.23 in /home/ec2-user/anaconda3/envs/python3/lib/python3.6/site-packages (from jinja2->nbconvert>=4.2->jupyter-contrib-nbextensions==0.5.1) (1.0)\n",
      "Requirement already satisfied: jsonschema!=2.5.0,>=2.4 in /home/ec2-user/anaconda3/envs/python3/lib/python3.6/site-packages (from nbformat>=4.4->nbconvert>=4.2->jupyter-contrib-nbextensions==0.5.1) (2.6.0)\n",
      "Requirement already satisfied: html5lib!=1.0b1,!=1.0b2,!=1.0b3,!=1.0b4,!=1.0b5,!=1.0b6,!=1.0b7,!=1.0b8,>=0.99999999pre in /home/ec2-user/anaconda3/envs/python3/lib/python3.6/site-packages (from bleach->nbconvert>=4.2->jupyter-contrib-nbextensions==0.5.1) (1.0.1)\n",
      "Requirement already satisfied: python-dateutil>=2.1 in /home/ec2-user/anaconda3/envs/python3/lib/python3.6/site-packages (from jupyter-client>=5.3.4->notebook>=4.0->jupyter-contrib-nbextensions==0.5.1) (2.7.3)\n",
      "Requirement already satisfied: ptyprocess>=0.5 in /home/ec2-user/anaconda3/envs/python3/lib/python3.6/site-packages (from pexpect; sys_platform != \"win32\"->ipython->jupyter_latex_envs>=1.3.8->jupyter-contrib-nbextensions==0.5.1) (0.5.2)\n",
      "Requirement already satisfied: parso>=0.2.0 in /home/ec2-user/anaconda3/envs/python3/lib/python3.6/site-packages (from jedi>=0.10->ipython->jupyter_latex_envs>=1.3.8->jupyter-contrib-nbextensions==0.5.1) (0.2.0)\n",
      "Requirement already satisfied: wcwidth in /home/ec2-user/anaconda3/envs/python3/lib/python3.6/site-packages (from prompt-toolkit<2.0.0,>=1.0.15->ipython->jupyter_latex_envs>=1.3.8->jupyter-contrib-nbextensions==0.5.1) (0.1.7)\n",
      "Requirement already satisfied: webencodings in /home/ec2-user/anaconda3/envs/python3/lib/python3.6/site-packages (from html5lib!=1.0b1,!=1.0b2,!=1.0b3,!=1.0b4,!=1.0b5,!=1.0b6,!=1.0b7,!=1.0b8,>=0.99999999pre->bleach->nbconvert>=4.2->jupyter-contrib-nbextensions==0.5.1) (0.5.1)\n",
      "Building wheels for collected packages: jupyter-contrib-nbextensions, jupyter-latex-envs, jupyter-nbextensions-configurator\n",
      "  Running setup.py bdist_wheel for jupyter-contrib-nbextensions ... \u001b[?25ldone\n",
      "\u001b[?25h  Stored in directory: /tmp/pip-ephem-wheel-cache-t7lozqrp/wheels/22/4a/9f/df59e985684a10ea0e025300581870b5b3a300ee3525f0eef5\n",
      "  Running setup.py bdist_wheel for jupyter-latex-envs ... \u001b[?25ldone\n",
      "\u001b[?25h  Stored in directory: /home/ec2-user/.cache/pip/wheels/0d/71/2a/164491997299b9f2479a251e254323fe35d946779e18f27956\n",
      "  Running setup.py bdist_wheel for jupyter-nbextensions-configurator ... \u001b[?25ldone\n",
      "\u001b[?25h  Stored in directory: /home/ec2-user/.cache/pip/wheels/15/df/fe/2a74fe34709e7fdc5ae153a768675d9fda93cc7d5133ed1fb0\n",
      "Successfully built jupyter-contrib-nbextensions jupyter-latex-envs jupyter-nbextensions-configurator\n",
      "\u001b[31msparkmagic 0.12.5 has requirement notebook<6.0,>=4.2, but you'll have notebook 6.0.3 which is incompatible.\u001b[0m\n",
      "\u001b[31mnotebook 6.0.3 has requirement jupyter-core>=4.6.1, but you'll have jupyter-core 4.4.0 which is incompatible.\u001b[0m\n",
      "\u001b[31mjupyter-client 6.1.3 has requirement jupyter-core>=4.6.0, but you'll have jupyter-core 4.4.0 which is incompatible.\u001b[0m\n",
      "Installing collected packages: jupyter-contrib-core, jupyter-highlight-selected-word, jupyter-latex-envs, jupyter-nbextensions-configurator, jupyter-contrib-nbextensions\n",
      "Successfully installed jupyter-contrib-core-0.3.3 jupyter-contrib-nbextensions-0.5.1 jupyter-highlight-selected-word-0.2.0 jupyter-latex-envs-1.4.6 jupyter-nbextensions-configurator-0.4.1\n",
      "\u001b[33mYou are using pip version 10.0.1, however version 20.1b1 is available.\n",
      "You should consider upgrading via the 'pip install --upgrade pip' command.\u001b[0m\n"
     ]
    }
   ],
   "source": [
    "!pip install https://github.com/ipython-contrib/jupyter_contrib_nbextensions/tarball/master"
   ]
  },
  {
   "cell_type": "code",
   "execution_count": 7,
   "metadata": {},
   "outputs": [
    {
     "name": "stdout",
     "output_type": "stream",
     "text": [
      "Traceback (most recent call last):\n",
      "  File \"/home/ec2-user/anaconda3/envs/python3/bin/jupyter-contrib\", line 11, in <module>\n",
      "    sys.exit(main())\n",
      "  File \"/home/ec2-user/anaconda3/envs/python3/lib/python3.6/site-packages/jupyter_core/application.py\", line 266, in launch_instance\n",
      "    return super(JupyterApp, cls).launch_instance(argv=argv, **kwargs)\n",
      "  File \"/home/ec2-user/anaconda3/envs/python3/lib/python3.6/site-packages/traitlets/config/application.py\", line 656, in launch_instance\n",
      "    app = cls.instance(**kwargs)\n",
      "  File \"/home/ec2-user/anaconda3/envs/python3/lib/python3.6/site-packages/traitlets/config/configurable.py\", line 412, in instance\n",
      "    inst = cls(*args, **kwargs)\n",
      "  File \"/home/ec2-user/anaconda3/envs/python3/lib/python3.6/site-packages/jupyter_contrib_core/application.py\", line 27, in __init__\n",
      "    self._refresh_subcommands()\n",
      "  File \"/home/ec2-user/anaconda3/envs/python3/lib/python3.6/site-packages/jupyter_contrib_core/application.py\", line 43, in _refresh_subcommands\n",
      "    get_subcommands_dict = entrypoint.load()\n",
      "  File \"/home/ec2-user/anaconda3/envs/python3/lib/python3.6/site-packages/pkg_resources/__init__.py\", line 2321, in load\n",
      "    self.require(*args, **kwargs)\n",
      "  File \"/home/ec2-user/anaconda3/envs/python3/lib/python3.6/site-packages/pkg_resources/__init__.py\", line 2344, in require\n",
      "    items = working_set.resolve(reqs, env, installer, extras=self.extras)\n",
      "  File \"/home/ec2-user/anaconda3/envs/python3/lib/python3.6/site-packages/pkg_resources/__init__.py\", line 783, in resolve\n",
      "    raise VersionConflict(dist, req).with_context(dependent_req)\n",
      "pkg_resources.ContextualVersionConflict: (jupyter-core 4.4.0 (/home/ec2-user/anaconda3/envs/python3/lib/python3.6/site-packages), Requirement.parse('jupyter-core>=4.6.1'), {'notebook'})\n"
     ]
    }
   ],
   "source": [
    "!jupyter contrib nbextension install --user"
   ]
  },
  {
   "cell_type": "markdown",
   "metadata": {},
   "source": [
    "We'll be choosing and adding extensions individually using nbextension enable. We'll be using the codefolding, spellchecking, and table beautifying extensions. "
   ]
  },
  {
   "cell_type": "code",
   "execution_count": 8,
   "metadata": {},
   "outputs": [
    {
     "name": "stdout",
     "output_type": "stream",
     "text": [
      "Enabling notebook extension codefolding/main...\n",
      "      - Validating: \u001b[32mOK\u001b[0m\n"
     ]
    }
   ],
   "source": [
    "!jupyter nbextension enable codefolding/main"
   ]
  },
  {
   "cell_type": "code",
   "execution_count": 13,
   "metadata": {},
   "outputs": [
    {
     "name": "stdout",
     "output_type": "stream",
     "text": [
      "Enabling notebook extension spellchecker/main...\n",
      "      - Validating: \u001b[32mOK\u001b[0m\n"
     ]
    }
   ],
   "source": [
    "!jupyter nbextension enable spellchecker/main"
   ]
  },
  {
   "cell_type": "code",
   "execution_count": 14,
   "metadata": {},
   "outputs": [
    {
     "name": "stdout",
     "output_type": "stream",
     "text": [
      "Enabling notebook extension table_beautifier/main...\n",
      "      - Validating: \u001b[32mOK\u001b[0m\n"
     ]
    }
   ],
   "source": [
    "!jupyter nbextension enable table_beautifier/main"
   ]
  }
 ],
 "metadata": {
  "kernelspec": {
   "display_name": "conda_python3",
   "language": "python",
   "name": "conda_python3"
  },
  "language_info": {
   "codemirror_mode": {
    "name": "ipython",
    "version": 3
   },
   "file_extension": ".py",
   "mimetype": "text/x-python",
   "name": "python",
   "nbconvert_exporter": "python",
   "pygments_lexer": "ipython3",
   "version": "3.6.5"
  },
  "toc-autonumbering": false
 },
 "nbformat": 4,
 "nbformat_minor": 4
}
